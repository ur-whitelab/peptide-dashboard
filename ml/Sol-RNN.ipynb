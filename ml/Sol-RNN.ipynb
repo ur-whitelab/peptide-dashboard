{
  "nbformat": 4,
  "nbformat_minor": 0,
  "metadata": {
    "colab": {
      "name": "Peptide-sol-RNN",
      "provenance": [],
      "collapsed_sections": []
    },
    "kernelspec": {
      "name": "python3",
      "display_name": "Python 3"
    },
    "language_info": {
      "name": "python"
    },
    "accelerator": "GPU"
  },
  "cells": [
    {
      "cell_type": "code",
      "metadata": {
        "colab": {
          "base_uri": "https://localhost:8080/"
        },
        "id": "FLdQgeg6ruk5",
        "outputId": "b1a87a01-6c0b-4b53-c06c-5ae8059026b7"
      },
      "source": [
        "!nvidia-smi"
      ],
      "execution_count": 1,
      "outputs": [
        {
          "output_type": "stream",
          "name": "stdout",
          "text": [
            "Sat Oct 30 22:30:40 2021       \n",
            "+-----------------------------------------------------------------------------+\n",
            "| NVIDIA-SMI 495.29.05    Driver Version: 460.32.03    CUDA Version: 11.2     |\n",
            "|-------------------------------+----------------------+----------------------+\n",
            "| GPU  Name        Persistence-M| Bus-Id        Disp.A | Volatile Uncorr. ECC |\n",
            "| Fan  Temp  Perf  Pwr:Usage/Cap|         Memory-Usage | GPU-Util  Compute M. |\n",
            "|                               |                      |               MIG M. |\n",
            "|===============================+======================+======================|\n",
            "|   0  Tesla P100-PCIE...  Off  | 00000000:00:04.0 Off |                    0 |\n",
            "| N/A   45C    P0    40W / 250W |      0MiB / 16280MiB |      0%      Default |\n",
            "|                               |                      |                  N/A |\n",
            "+-------------------------------+----------------------+----------------------+\n",
            "                                                                               \n",
            "+-----------------------------------------------------------------------------+\n",
            "| Processes:                                                                  |\n",
            "|  GPU   GI   CI        PID   Type   Process name                  GPU Memory |\n",
            "|        ID   ID                                                   Usage      |\n",
            "|=============================================================================|\n",
            "|  No running processes found                                                 |\n",
            "+-----------------------------------------------------------------------------+\n"
          ]
        }
      ]
    },
    {
      "cell_type": "code",
      "metadata": {
        "id": "kN5GDHK6riEe"
      },
      "source": [
        "#@title Runtime\n",
        "use_tpu = False #@param\n"
      ],
      "execution_count": 2,
      "outputs": []
    },
    {
      "cell_type": "code",
      "metadata": {
        "id": "PW7wdIp7py9V"
      },
      "source": [
        "import matplotlib.pyplot as plt\n",
        "import matplotlib as mpl\n",
        "import numpy as np\n",
        "import os\n",
        "import tensorflow as tf\n",
        "import urllib\n",
        "from dataclasses import dataclass\n",
        "np.random.seed(0)"
      ],
      "execution_count": 3,
      "outputs": []
    },
    {
      "cell_type": "code",
      "metadata": {
        "id": "-az13Rv1p6xr"
      },
      "source": [
        "urllib.request.urlretrieve(\n",
        "    \"https://github.com/whitead/dmol-book/raw/master/data/solubility.npz\",\n",
        "    \"solubility.npz\",\n",
        ")\n",
        "with np.load(\"solubility.npz\") as r:\n",
        "    pos_data, neg_data = r[\"positives\"], r[\"negatives\"]\n",
        "\n",
        "# create labels and stich it all into one\n",
        "# tensor\n",
        "labels = np.concatenate(\n",
        "    (\n",
        "        np.ones((pos_data.shape[0], 1), dtype=pos_data.dtype),\n",
        "        np.zeros((neg_data.shape[0], 1), dtype=pos_data.dtype),\n",
        "    ),\n",
        "    axis=0,\n",
        ")\n",
        "features = np.concatenate((pos_data, neg_data), axis=0)"
      ],
      "execution_count": 4,
      "outputs": []
    },
    {
      "cell_type": "code",
      "metadata": {
        "id": "4o1kwH0dy_xz"
      },
      "source": [
        "@dataclass\n",
        "class Config:\n",
        "    vocab_size: int\n",
        "    example_number: int\n",
        "    batch_size: int\n",
        "    buffer_size: int\n",
        "    rnn_units: int\n",
        "    hidden_dim: int\n",
        "    embedding_dim: int\n",
        "    reg_strength: float\n",
        "    lr: float\n",
        "    drop_rate: float\n",
        "        \n",
        "config = Config(vocab_size=21, # include gap\n",
        "                example_number=len(labels), \n",
        "                batch_size=16, \n",
        "                buffer_size=10000,\n",
        "                rnn_units=256,\n",
        "                hidden_dim=128,\n",
        "                embedding_dim=128,\n",
        "                reg_strength=0,\n",
        "                lr=1e-3,\n",
        "                drop_rate=0.1\n",
        "               )\n",
        "\n"
      ],
      "execution_count": 5,
      "outputs": []
    },
    {
      "cell_type": "code",
      "metadata": {
        "id": "pC9ee3SEqxqq"
      },
      "source": [
        "def build_model(L):\n",
        "    inputs = tf.keras.Input(shape=(L,))\n",
        "\n",
        "    # make embedding and indicate that 0 should be treated as padding mask\n",
        "    e = tf.keras.layers.Embedding(input_dim=config.vocab_size, \n",
        "                                        output_dim=config.embedding_dim,\n",
        "                                        mask_zero=True)(inputs)\n",
        "\n",
        "    counts = tf.keras.layers.GlobalAveragePooling1D()(e)\n",
        "\n",
        "\n",
        "    # RNN layer\n",
        "    x = tf.keras.layers.LSTM(config.rnn_units)(e)\n",
        "    x = tf.keras.layers.Concatenate()([x, counts])\n",
        "    x = tf.keras.layers.LayerNormalization()(x)\n",
        "    x = tf.keras.layers.Dropout(config.drop_rate)(x)\n",
        "    # a dense hidden layer\n",
        "    x = tf.keras.layers.Dense(\n",
        "        config.hidden_dim, \n",
        "        activation='relu', \n",
        "        kernel_regularizer=tf.keras.regularizers.l2(config.reg_strength))(x)\n",
        "    x = tf.keras.layers.LayerNormalization()(x)\n",
        "    x = tf.keras.layers.Dropout(config.drop_rate)(x)\n",
        "    x = tf.keras.layers.Dense(\n",
        "        config.hidden_dim // 4, \n",
        "        activation='relu', \n",
        "        kernel_regularizer=tf.keras.regularizers.l2(config.reg_strength))(x)\n",
        "    x = tf.keras.layers.LayerNormalization()(x)\n",
        "    x = tf.keras.layers.Dropout(config.drop_rate)(x)\n",
        "    # predicting prob, so no activation\n",
        "    yhat = tf.keras.layers.Dense(1)(x)\n",
        "\n",
        "    model = tf.keras.Model(inputs=inputs, outputs=yhat, name='sol-rnn')\n",
        "    return model"
      ],
      "execution_count": 6,
      "outputs": []
    },
    {
      "cell_type": "code",
      "metadata": {
        "id": "rg4sBeamoCOO"
      },
      "source": [
        "if use_tpu:\n",
        "  tf.keras.backend.clear_session()\n",
        "\n",
        "  resolver = tf.distribute.cluster_resolver.TPUClusterResolver('grpc://' + os.environ['COLAB_TPU_ADDR'])\n",
        "  tf.config.experimental_connect_to_cluster(resolver)\n",
        "\n",
        "  # This is the TPU initialization code that has to be at the beginning.\n",
        "  tf.tpu.experimental.initialize_tpu_system(resolver)\n",
        "  print(\"All devices: \", tf.config.list_logical_devices('TPU'))\n",
        "\n",
        "  strategy = tf.distribute.experimental.TPUStrategy(resolver)\n"
      ],
      "execution_count": 7,
      "outputs": []
    },
    {
      "cell_type": "code",
      "metadata": {
        "id": "dXB1MlmMqAHT"
      },
      "source": [
        "# we now need to shuffle before creating TF dataset\n",
        "# so that our train/test/val splits are random\n",
        "i = np.arange(len(labels))\n",
        "np.random.shuffle(i)\n",
        "labels = labels[i]\n",
        "features = features[i]\n",
        "data = tf.data.Dataset.from_tensor_slices((features, labels))\n",
        "# now split into val, test, train and batch\n",
        "N = len(data)  \n",
        "L = features[0].shape[-1]\n",
        "split = int(0.1 * N)\n",
        "test_data = data.take(split).batch(config.batch_size)\n",
        "nontest = data.skip(split)\n",
        "val_data, train_data = nontest.take(split).batch(config.batch_size), \\\n",
        "    nontest.skip(split).shuffle(config.buffer_size).batch(config.batch_size).prefetch(tf.data.experimental.AUTOTUNE)"
      ],
      "execution_count": 8,
      "outputs": []
    },
    {
      "cell_type": "code",
      "metadata": {
        "id": "W8WI1JiDy9J2"
      },
      "source": [
        "if use_tpu:\n",
        "  with strategy.scope():\n",
        "    model = build_model(L)\n",
        "else:\n",
        "  model = build_model(L)\n",
        "\n",
        "  # 50 epochs\n",
        "  decay_steps = N  // config.batch_size * 50\n",
        "  lr_decayed_fn = tf.keras.optimizers.schedules.CosineDecay(\n",
        "      config.lr, decay_steps, alpha=1e-3)\n",
        "  opt = tf.optimizers.Adam(lr_decayed_fn)\n",
        "  model.compile(\n",
        "      opt,\n",
        "      loss=tf.keras.losses.BinaryCrossentropy(from_logits=True),\n",
        "      steps_per_execution = 60 if use_tpu else None,\n",
        "      metrics=[tf.keras.metrics.AUC(from_logits=True), tf.keras.metrics.BinaryAccuracy(threshold=0)])"
      ],
      "execution_count": 9,
      "outputs": []
    },
    {
      "cell_type": "code",
      "metadata": {
        "colab": {
          "base_uri": "https://localhost:8080/"
        },
        "id": "mVSlO4VizO-N",
        "outputId": "5f998ca6-2574-4895-d385-29e38e499947"
      },
      "source": [
        "result = model.fit(\n",
        "    train_data, \n",
        "    validation_data=val_data, \n",
        "    callbacks=[tf.keras.callbacks.LambdaCallback(\n",
        "        on_epoch_begin=lambda epochs,logs: print('lr =',lr_decayed_fn(opt.iterations).numpy())\n",
        "        ),\n",
        "        tf.keras.callbacks.EarlyStopping(monitor='val_auc', mode='max', restore_best_weights=True, patience=25)],\n",
        "    epochs=150)\n",
        "\n"
      ],
      "execution_count": 10,
      "outputs": [
        {
          "output_type": "stream",
          "name": "stdout",
          "text": [
            "Epoch 1/150\n",
            "lr = 0.001\n",
            "923/923 [==============================] - 24s 21ms/step - loss: 0.6954 - auc: 0.5195 - binary_accuracy: 0.5191 - val_loss: 0.6891 - val_auc: 0.5675 - val_binary_accuracy: 0.5312\n",
            "Epoch 2/150\n",
            "lr = 0.0009993684\n",
            "923/923 [==============================] - 18s 19ms/step - loss: 0.6823 - auc: 0.5779 - binary_accuracy: 0.5617 - val_loss: 0.6741 - val_auc: 0.6123 - val_binary_accuracy: 0.5897\n",
            "Epoch 3/150\n",
            "lr = 0.0009974748\n",
            "923/923 [==============================] - 18s 20ms/step - loss: 0.6880 - auc: 0.5491 - binary_accuracy: 0.5405 - val_loss: 0.6785 - val_auc: 0.6173 - val_binary_accuracy: 0.5566\n",
            "Epoch 4/150\n",
            "lr = 0.0009943242\n",
            "923/923 [==============================] - 18s 20ms/step - loss: 0.6717 - auc: 0.6090 - binary_accuracy: 0.5830 - val_loss: 0.6698 - val_auc: 0.6192 - val_binary_accuracy: 0.5989\n",
            "Epoch 5/150\n",
            "lr = 0.0009899247\n",
            "923/923 [==============================] - 18s 20ms/step - loss: 0.6679 - auc: 0.6177 - binary_accuracy: 0.5860 - val_loss: 0.6703 - val_auc: 0.6193 - val_binary_accuracy: 0.5799\n",
            "Epoch 6/150\n",
            "lr = 0.0009842871\n",
            "923/923 [==============================] - 18s 20ms/step - loss: 0.6657 - auc: 0.6231 - binary_accuracy: 0.5936 - val_loss: 0.6682 - val_auc: 0.6226 - val_binary_accuracy: 0.5957\n",
            "Epoch 7/150\n",
            "lr = 0.0009774258\n",
            "923/923 [==============================] - 18s 19ms/step - loss: 0.6624 - auc: 0.6300 - binary_accuracy: 0.5982 - val_loss: 0.6691 - val_auc: 0.6209 - val_binary_accuracy: 0.6038\n",
            "Epoch 8/150\n",
            "lr = 0.0009693582\n",
            "923/923 [==============================] - 18s 19ms/step - loss: 0.6600 - auc: 0.6346 - binary_accuracy: 0.6026 - val_loss: 0.6650 - val_auc: 0.6231 - val_binary_accuracy: 0.5967\n",
            "Epoch 9/150\n",
            "lr = 0.0009601047\n",
            "923/923 [==============================] - 18s 20ms/step - loss: 0.6572 - auc: 0.6416 - binary_accuracy: 0.6077 - val_loss: 0.6703 - val_auc: 0.6264 - val_binary_accuracy: 0.5995\n",
            "Epoch 10/150\n",
            "lr = 0.0009496887\n",
            "923/923 [==============================] - 18s 20ms/step - loss: 0.6536 - auc: 0.6487 - binary_accuracy: 0.6062 - val_loss: 0.6627 - val_auc: 0.6286 - val_binary_accuracy: 0.6000\n",
            "Epoch 11/150\n",
            "lr = 0.00093813654\n",
            "923/923 [==============================] - 18s 20ms/step - loss: 0.6499 - auc: 0.6544 - binary_accuracy: 0.6151 - val_loss: 0.6658 - val_auc: 0.6338 - val_binary_accuracy: 0.5989\n",
            "Epoch 12/150\n",
            "lr = 0.0009254774\n",
            "923/923 [==============================] - 18s 20ms/step - loss: 0.6442 - auc: 0.6661 - binary_accuracy: 0.6222 - val_loss: 0.6667 - val_auc: 0.6291 - val_binary_accuracy: 0.6011\n",
            "Epoch 13/150\n",
            "lr = 0.0009117433\n",
            "923/923 [==============================] - 18s 20ms/step - loss: 0.6822 - auc: 0.5638 - binary_accuracy: 0.5446 - val_loss: 0.6847 - val_auc: 0.6068 - val_binary_accuracy: 0.5442\n",
            "Epoch 14/150\n",
            "lr = 0.0008969691\n",
            "923/923 [==============================] - 18s 20ms/step - loss: 0.6815 - auc: 0.5712 - binary_accuracy: 0.5577 - val_loss: 0.6727 - val_auc: 0.6176 - val_binary_accuracy: 0.5827\n",
            "Epoch 15/150\n",
            "lr = 0.00088119204\n",
            "923/923 [==============================] - 18s 20ms/step - loss: 0.6723 - auc: 0.5997 - binary_accuracy: 0.5769 - val_loss: 0.6684 - val_auc: 0.6199 - val_binary_accuracy: 0.5919\n",
            "Epoch 16/150\n",
            "lr = 0.0008644521\n",
            "923/923 [==============================] - 18s 20ms/step - loss: 0.6679 - auc: 0.6154 - binary_accuracy: 0.5894 - val_loss: 0.6673 - val_auc: 0.6230 - val_binary_accuracy: 0.5940\n",
            "Epoch 17/150\n",
            "lr = 0.0008467916\n",
            "923/923 [==============================] - 18s 20ms/step - loss: 0.6541 - auc: 0.6465 - binary_accuracy: 0.6136 - val_loss: 0.6509 - val_auc: 0.6670 - val_binary_accuracy: 0.6092\n",
            "Epoch 18/150\n",
            "lr = 0.00082825514\n",
            "923/923 [==============================] - 18s 20ms/step - loss: 0.6240 - auc: 0.6925 - binary_accuracy: 0.6471 - val_loss: 0.6208 - val_auc: 0.6966 - val_binary_accuracy: 0.6428\n",
            "Epoch 19/150\n",
            "lr = 0.00080888974\n",
            "923/923 [==============================] - 18s 20ms/step - loss: 0.6151 - auc: 0.6976 - binary_accuracy: 0.6537 - val_loss: 0.6091 - val_auc: 0.7012 - val_binary_accuracy: 0.6509\n",
            "Epoch 20/150\n",
            "lr = 0.00078874425\n",
            "923/923 [==============================] - 18s 20ms/step - loss: 0.6050 - auc: 0.7062 - binary_accuracy: 0.6569 - val_loss: 0.6096 - val_auc: 0.7001 - val_binary_accuracy: 0.6482\n",
            "Epoch 21/150\n",
            "lr = 0.00076786964\n",
            "923/923 [==============================] - 18s 20ms/step - loss: 0.6023 - auc: 0.7103 - binary_accuracy: 0.6610 - val_loss: 0.6101 - val_auc: 0.7038 - val_binary_accuracy: 0.6439\n",
            "Epoch 22/150\n",
            "lr = 0.0007463188\n",
            "923/923 [==============================] - 18s 20ms/step - loss: 0.5963 - auc: 0.7159 - binary_accuracy: 0.6642 - val_loss: 0.6172 - val_auc: 0.7009 - val_binary_accuracy: 0.6434\n",
            "Epoch 23/150\n",
            "lr = 0.0007241462\n",
            "923/923 [==============================] - 18s 20ms/step - loss: 0.5904 - auc: 0.7219 - binary_accuracy: 0.6726 - val_loss: 0.6022 - val_auc: 0.7088 - val_binary_accuracy: 0.6596\n",
            "Epoch 24/150\n",
            "lr = 0.00070140796\n",
            "923/923 [==============================] - 18s 20ms/step - loss: 0.5885 - auc: 0.7249 - binary_accuracy: 0.6738 - val_loss: 0.6071 - val_auc: 0.7065 - val_binary_accuracy: 0.6542\n",
            "Epoch 25/150\n",
            "lr = 0.00067816145\n",
            "923/923 [==============================] - 18s 20ms/step - loss: 0.5835 - auc: 0.7305 - binary_accuracy: 0.6752 - val_loss: 0.6097 - val_auc: 0.7068 - val_binary_accuracy: 0.6564\n",
            "Epoch 26/150\n",
            "lr = 0.00065446564\n",
            "923/923 [==============================] - 18s 20ms/step - loss: 0.5824 - auc: 0.7303 - binary_accuracy: 0.6785 - val_loss: 0.6159 - val_auc: 0.7023 - val_binary_accuracy: 0.6515\n",
            "Epoch 27/150\n",
            "lr = 0.00063038035\n",
            "923/923 [==============================] - 18s 20ms/step - loss: 0.5756 - auc: 0.7372 - binary_accuracy: 0.6826 - val_loss: 0.6093 - val_auc: 0.7102 - val_binary_accuracy: 0.6580\n",
            "Epoch 28/150\n",
            "lr = 0.00060596655\n",
            "923/923 [==============================] - 18s 20ms/step - loss: 0.5702 - auc: 0.7424 - binary_accuracy: 0.6863 - val_loss: 0.6030 - val_auc: 0.7123 - val_binary_accuracy: 0.6607\n",
            "Epoch 29/150\n",
            "lr = 0.00058128603\n",
            "923/923 [==============================] - 18s 20ms/step - loss: 0.5654 - auc: 0.7455 - binary_accuracy: 0.6849 - val_loss: 0.6046 - val_auc: 0.7114 - val_binary_accuracy: 0.6688\n",
            "Epoch 30/150\n",
            "lr = 0.00055640115\n",
            "923/923 [==============================] - 18s 20ms/step - loss: 0.5586 - auc: 0.7513 - binary_accuracy: 0.6940 - val_loss: 0.6059 - val_auc: 0.7096 - val_binary_accuracy: 0.6645\n",
            "Epoch 31/150\n",
            "lr = 0.0005313748\n",
            "923/923 [==============================] - 18s 20ms/step - loss: 0.5541 - auc: 0.7556 - binary_accuracy: 0.6962 - val_loss: 0.6049 - val_auc: 0.7112 - val_binary_accuracy: 0.6645\n",
            "Epoch 32/150\n",
            "lr = 0.0005062705\n",
            "923/923 [==============================] - 18s 20ms/step - loss: 0.5499 - auc: 0.7608 - binary_accuracy: 0.7000 - val_loss: 0.6295 - val_auc: 0.7132 - val_binary_accuracy: 0.6640\n",
            "Epoch 33/150\n",
            "lr = 0.0004811515\n",
            "923/923 [==============================] - 18s 20ms/step - loss: 0.5425 - auc: 0.7687 - binary_accuracy: 0.7052 - val_loss: 0.6088 - val_auc: 0.7149 - val_binary_accuracy: 0.6640\n",
            "Epoch 34/150\n",
            "lr = 0.00045608153\n",
            "923/923 [==============================] - 18s 20ms/step - loss: 0.5381 - auc: 0.7725 - binary_accuracy: 0.7071 - val_loss: 0.6252 - val_auc: 0.7097 - val_binary_accuracy: 0.6661\n",
            "Epoch 35/150\n",
            "lr = 0.0004311238\n",
            "923/923 [==============================] - 18s 20ms/step - loss: 0.5343 - auc: 0.7783 - binary_accuracy: 0.7093 - val_loss: 0.6320 - val_auc: 0.7073 - val_binary_accuracy: 0.6591\n",
            "Epoch 36/150\n",
            "lr = 0.0004063416\n",
            "923/923 [==============================] - 18s 20ms/step - loss: 0.5264 - auc: 0.7844 - binary_accuracy: 0.7138 - val_loss: 0.6570 - val_auc: 0.6996 - val_binary_accuracy: 0.6585\n",
            "Epoch 37/150\n",
            "lr = 0.0003817976\n",
            "923/923 [==============================] - 18s 20ms/step - loss: 0.5213 - auc: 0.7897 - binary_accuracy: 0.7190 - val_loss: 0.6603 - val_auc: 0.7071 - val_binary_accuracy: 0.6629\n",
            "Epoch 38/150\n",
            "lr = 0.0003575538\n",
            "923/923 [==============================] - 18s 20ms/step - loss: 0.5152 - auc: 0.7976 - binary_accuracy: 0.7207 - val_loss: 0.6628 - val_auc: 0.7036 - val_binary_accuracy: 0.6515\n",
            "Epoch 39/150\n",
            "lr = 0.00033367146\n",
            "923/923 [==============================] - 18s 20ms/step - loss: 0.5109 - auc: 0.8004 - binary_accuracy: 0.7221 - val_loss: 0.6353 - val_auc: 0.7119 - val_binary_accuracy: 0.6656\n",
            "Epoch 40/150\n",
            "lr = 0.0003102112\n",
            "923/923 [==============================] - 18s 20ms/step - loss: 0.5029 - auc: 0.8079 - binary_accuracy: 0.7293 - val_loss: 0.6749 - val_auc: 0.7126 - val_binary_accuracy: 0.6705\n",
            "Epoch 41/150\n",
            "lr = 0.00028723222\n",
            "923/923 [==============================] - 18s 20ms/step - loss: 0.4994 - auc: 0.8103 - binary_accuracy: 0.7284 - val_loss: 0.6943 - val_auc: 0.7085 - val_binary_accuracy: 0.6656\n",
            "Epoch 42/150\n",
            "lr = 0.00026479282\n",
            "923/923 [==============================] - 18s 20ms/step - loss: 0.4920 - auc: 0.8167 - binary_accuracy: 0.7360 - val_loss: 0.6701 - val_auc: 0.7076 - val_binary_accuracy: 0.6645\n",
            "Epoch 43/150\n",
            "lr = 0.00024294946\n",
            "923/923 [==============================] - 18s 20ms/step - loss: 0.4873 - auc: 0.8200 - binary_accuracy: 0.7348 - val_loss: 0.6823 - val_auc: 0.7051 - val_binary_accuracy: 0.6575\n",
            "Epoch 44/150\n",
            "lr = 0.00022175757\n",
            "923/923 [==============================] - 18s 20ms/step - loss: 0.4851 - auc: 0.8233 - binary_accuracy: 0.7387 - val_loss: 0.6987 - val_auc: 0.7057 - val_binary_accuracy: 0.6612\n",
            "Epoch 45/150\n",
            "lr = 0.00020127074\n",
            "923/923 [==============================] - 18s 20ms/step - loss: 0.4787 - auc: 0.8277 - binary_accuracy: 0.7396 - val_loss: 0.7187 - val_auc: 0.7044 - val_binary_accuracy: 0.6618\n",
            "Epoch 46/150\n",
            "lr = 0.00018154072\n",
            "923/923 [==============================] - 18s 20ms/step - loss: 0.4717 - auc: 0.8339 - binary_accuracy: 0.7463 - val_loss: 0.7130 - val_auc: 0.7008 - val_binary_accuracy: 0.6515\n",
            "Epoch 47/150\n",
            "lr = 0.0001626176\n",
            "923/923 [==============================] - 18s 20ms/step - loss: 0.4656 - auc: 0.8394 - binary_accuracy: 0.7511 - val_loss: 0.7414 - val_auc: 0.7009 - val_binary_accuracy: 0.6537\n",
            "Epoch 48/150\n",
            "lr = 0.00014454902\n",
            "923/923 [==============================] - 18s 20ms/step - loss: 0.4633 - auc: 0.8419 - binary_accuracy: 0.7532 - val_loss: 0.7089 - val_auc: 0.6985 - val_binary_accuracy: 0.6499\n",
            "Epoch 49/150\n",
            "lr = 0.00012738074\n",
            "923/923 [==============================] - 18s 20ms/step - loss: 0.4578 - auc: 0.8454 - binary_accuracy: 0.7539 - val_loss: 0.7673 - val_auc: 0.6991 - val_binary_accuracy: 0.6472\n",
            "Epoch 50/150\n",
            "lr = 0.000111156245\n",
            "923/923 [==============================] - 18s 20ms/step - loss: 0.4532 - auc: 0.8491 - binary_accuracy: 0.7575 - val_loss: 0.7647 - val_auc: 0.6962 - val_binary_accuracy: 0.6515\n",
            "Epoch 51/150\n",
            "lr = 9.5916555e-05\n",
            "923/923 [==============================] - 18s 20ms/step - loss: 0.4487 - auc: 0.8514 - binary_accuracy: 0.7587 - val_loss: 0.7647 - val_auc: 0.6962 - val_binary_accuracy: 0.6477\n",
            "Epoch 52/150\n",
            "lr = 8.170027e-05\n",
            "923/923 [==============================] - 18s 20ms/step - loss: 0.4440 - auc: 0.8561 - binary_accuracy: 0.7630 - val_loss: 0.8000 - val_auc: 0.6939 - val_binary_accuracy: 0.6509\n",
            "Epoch 53/150\n",
            "lr = 6.85432e-05\n",
            "923/923 [==============================] - 18s 20ms/step - loss: 0.4418 - auc: 0.8584 - binary_accuracy: 0.7633 - val_loss: 0.7792 - val_auc: 0.6940 - val_binary_accuracy: 0.6444\n",
            "Epoch 54/150\n",
            "lr = 5.6478653e-05\n",
            "923/923 [==============================] - 18s 20ms/step - loss: 0.4400 - auc: 0.8589 - binary_accuracy: 0.7609 - val_loss: 0.7929 - val_auc: 0.6928 - val_binary_accuracy: 0.6439\n",
            "Epoch 55/150\n",
            "lr = 4.553728e-05\n",
            "923/923 [==============================] - 18s 20ms/step - loss: 0.4373 - auc: 0.8607 - binary_accuracy: 0.7637 - val_loss: 0.7909 - val_auc: 0.6914 - val_binary_accuracy: 0.6428\n",
            "Epoch 56/150\n",
            "lr = 3.5746678e-05\n",
            "923/923 [==============================] - 18s 20ms/step - loss: 0.4330 - auc: 0.8643 - binary_accuracy: 0.7682 - val_loss: 0.7932 - val_auc: 0.6926 - val_binary_accuracy: 0.6369\n",
            "Epoch 57/150\n",
            "lr = 2.713164e-05\n",
            "923/923 [==============================] - 18s 20ms/step - loss: 0.4312 - auc: 0.8655 - binary_accuracy: 0.7679 - val_loss: 0.8047 - val_auc: 0.6925 - val_binary_accuracy: 0.6407\n",
            "Epoch 58/150\n",
            "lr = 1.9713905e-05\n",
            "923/923 [==============================] - 19s 20ms/step - loss: 0.4311 - auc: 0.8652 - binary_accuracy: 0.7679 - val_loss: 0.8127 - val_auc: 0.6911 - val_binary_accuracy: 0.6412\n"
          ]
        }
      ]
    },
    {
      "cell_type": "code",
      "metadata": {
        "colab": {
          "base_uri": "https://localhost:8080/",
          "height": 265
        },
        "id": "8p0C2kHV2vrW",
        "outputId": "6fd29044-1a91-4aa8-cb52-4a18dd0af2de"
      },
      "source": [
        "plt.plot(result.history['val_binary_accuracy'])\n",
        "plt.show()"
      ],
      "execution_count": 11,
      "outputs": [
        {
          "output_type": "display_data",
          "data": {
            "image/png": "[encoded data removed]",
            "text/plain": [
              "<Figure size 432x288 with 1 Axes>"
            ]
          },
          "metadata": {
            "needs_background": "light"
          }
        }
      ]
    },
    {
      "cell_type": "code",
      "metadata": {
        "id": "vm_yXNslzRGu",
        "colab": {
          "base_uri": "https://localhost:8080/"
        },
        "outputId": "114132c6-e775-4f7a-fea1-f9e15829b9f9"
      },
      "source": [
        "model.evaluate(test_data)"
      ],
      "execution_count": 12,
      "outputs": [
        {
          "output_type": "stream",
          "name": "stdout",
          "text": [
            "116/116 [==============================] - 1s 7ms/step - loss: 0.6217 - auc: 0.7176 - binary_accuracy: 0.6715\n"
          ]
        },
        {
          "output_type": "execute_result",
          "data": {
            "text/plain": [
              "[0.621677041053772, 0.7176458239555359, 0.6715447306632996]"
            ]
          },
          "metadata": {},
          "execution_count": 12
        }
      ]
    },
    {
      "cell_type": "code",
      "metadata": {
        "id": "aDvdjpMmz7UA"
      },
      "source": [
        ""
      ],
      "execution_count": 12,
      "outputs": []
    }
  ]
}