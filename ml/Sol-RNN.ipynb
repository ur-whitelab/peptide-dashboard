{
 "cells": [
  {
   "cell_type": "code",
   "execution_count": 1,
   "metadata": {
    "colab": {
     "base_uri": "https://localhost:8080/"
    },
    "executionInfo": {
     "elapsed": 14454,
     "status": "ok",
     "timestamp": 1645469974022,
     "user": {
      "displayName": "Mehrad Ansari",
      "photoUrl": "https://lh3.googleusercontent.com/a-/AOh14GiZPhg45Nd1_yfNPm8mZjNlT0CXVuPZiMuU4u4NBw=s64",
      "userId": "14408599939652581087"
     },
     "user_tz": 300
    },
    "id": "FLdQgeg6ruk5",
    "outputId": "5866c639-a223-4285-d6e8-566a24bbebd9"
   },
   "outputs": [
    {
     "name": "stdout",
     "output_type": "stream",
     "text": [
      "\u001b[K     |████████████████████████████████| 77 kB 2.1 MB/s \n",
      "\u001b[K     |████████████████████████████████| 462 kB 11.8 MB/s \n",
      "\u001b[?25hMon Feb 21 18:59:34 2022       \n",
      "+-----------------------------------------------------------------------------+\n",
      "| NVIDIA-SMI 460.32.03    Driver Version: 460.32.03    CUDA Version: 11.2     |\n",
      "|-------------------------------+----------------------+----------------------+\n",
      "| GPU  Name        Persistence-M| Bus-Id        Disp.A | Volatile Uncorr. ECC |\n",
      "| Fan  Temp  Perf  Pwr:Usage/Cap|         Memory-Usage | GPU-Util  Compute M. |\n",
      "|                               |                      |               MIG M. |\n",
      "|===============================+======================+======================|\n",
      "|   0  Tesla K80           Off  | 00000000:00:04.0 Off |                    0 |\n",
      "| N/A   40C    P8    28W / 149W |      0MiB / 11441MiB |      0%      Default |\n",
      "|                               |                      |                  N/A |\n",
      "+-------------------------------+----------------------+----------------------+\n",
      "                                                                               \n",
      "+-----------------------------------------------------------------------------+\n",
      "| Processes:                                                                  |\n",
      "|  GPU   GI   CI        PID   Type   Process name                  GPU Memory |\n",
      "|        ID   ID                                                   Usage      |\n",
      "|=============================================================================|\n",
      "|  No running processes found                                                 |\n",
      "+-----------------------------------------------------------------------------+\n"
     ]
    }
   ],
   "source": [
    "!pip install -q tensorflowjs\n",
    "!nvidia-smi"
   ]
  },
  {
   "cell_type": "code",
   "execution_count": 7,
   "metadata": {
    "executionInfo": {
     "elapsed": 13,
     "status": "ok",
     "timestamp": 1645469974023,
     "user": {
      "displayName": "Mehrad Ansari",
      "photoUrl": "https://lh3.googleusercontent.com/a-/AOh14GiZPhg45Nd1_yfNPm8mZjNlT0CXVuPZiMuU4u4NBw=s64",
      "userId": "14408599939652581087"
     },
     "user_tz": 300
    },
    "id": "kN5GDHK6riEe"
   },
   "outputs": [],
   "source": [
    "#@title Runtime\n",
    "use_tpu = False #@param\n"
   ]
  },
  {
   "cell_type": "code",
   "execution_count": 1,
   "metadata": {
    "executionInfo": {
     "elapsed": 5136,
     "status": "ok",
     "timestamp": 1645469979148,
     "user": {
      "displayName": "Mehrad Ansari",
      "photoUrl": "https://lh3.googleusercontent.com/a-/AOh14GiZPhg45Nd1_yfNPm8mZjNlT0CXVuPZiMuU4u4NBw=s64",
      "userId": "14408599939652581087"
     },
     "user_tz": 300
    },
    "id": "PW7wdIp7py9V"
   },
   "outputs": [],
   "source": [
    "import matplotlib.pyplot as plt\n",
    "import matplotlib as mpl\n",
    "import numpy as np\n",
    "import os\n",
    "import tensorflow as tf\n",
    "import urllib\n",
    "from dataclasses import dataclass\n",
    "import tensorflowjs as tfjs\n",
    "import json\n",
    "np.random.seed(0)"
   ]
  },
  {
   "cell_type": "code",
   "execution_count": 2,
   "metadata": {
    "executionInfo": {
     "elapsed": 1358,
     "status": "ok",
     "timestamp": 1645469980505,
     "user": {
      "displayName": "Mehrad Ansari",
      "photoUrl": "https://lh3.googleusercontent.com/a-/AOh14GiZPhg45Nd1_yfNPm8mZjNlT0CXVuPZiMuU4u4NBw=s64",
      "userId": "14408599939652581087"
     },
     "user_tz": 300
    },
    "id": "-az13Rv1p6xr"
   },
   "outputs": [],
   "source": [
    "urllib.request.urlretrieve(\n",
    "    \"https://github.com/ur-whitelab/peptide-dashboard/raw/master/ml/data/insoluble.npz\",\n",
    "    \"insoluble.npz\",\n",
    ")\n",
    "urllib.request.urlretrieve(\n",
    "    \"https://github.com/ur-whitelab/peptide-dashboard/raw/master/ml/data/soluble.npz\",\n",
    "    \"soluble.npz\",\n",
    ")\n",
    "with np.load(\"soluble.npz\") as r:\n",
    "    pos_data = r['arr_0']\n",
    "with np.load(\"insoluble.npz\") as r:\n",
    "    neg_data = r['arr_0']\n",
    "\n",
    "# create labels and stich it all into one\n",
    "# tensor\n",
    "labels = np.concatenate(\n",
    "    (\n",
    "        np.ones((pos_data.shape[0], 1), dtype=pos_data.dtype),\n",
    "        np.zeros((neg_data.shape[0], 1), dtype=pos_data.dtype),\n",
    "    ),\n",
    "    axis=0,\n",
    ")\n",
    "features = np.concatenate((pos_data, neg_data), axis=0)\n",
    "pos_data_lengths = np.count_nonzero(pos_data, axis=1)\n",
    "neg_data_lengths = np.count_nonzero(neg_data, axis=1)"
   ]
  },
  {
   "cell_type": "code",
   "execution_count": 3,
   "metadata": {
    "colab": {
     "base_uri": "https://localhost:8080/"
    },
    "executionInfo": {
     "elapsed": 6,
     "status": "ok",
     "timestamp": 1645469980506,
     "user": {
      "displayName": "Mehrad Ansari",
      "photoUrl": "https://lh3.googleusercontent.com/a-/AOh14GiZPhg45Nd1_yfNPm8mZjNlT0CXVuPZiMuU4u4NBw=s64",
      "userId": "14408599939652581087"
     },
     "user_tz": 300
    },
    "id": "r6kg_YZyhQ7v",
    "outputId": "d9b87e52-2eac-459a-8286-bb03f9fbb55e"
   },
   "outputs": [
    {
     "name": "stdout",
     "output_type": "stream",
     "text": [
      "Positive data 8785\n",
      "Negative data 9668\n"
     ]
    }
   ],
   "source": [
    "print('Positive data', pos_data.shape[0])\n",
    "print('Negative data', neg_data.shape[0])"
   ]
  },
  {
   "cell_type": "code",
   "execution_count": 15,
   "metadata": {
    "executionInfo": {
     "elapsed": 3,
     "status": "ok",
     "timestamp": 1645469980506,
     "user": {
      "displayName": "Mehrad Ansari",
      "photoUrl": "https://lh3.googleusercontent.com/a-/AOh14GiZPhg45Nd1_yfNPm8mZjNlT0CXVuPZiMuU4u4NBw=s64",
      "userId": "14408599939652581087"
     },
     "user_tz": 300
    },
    "id": "4o1kwH0dy_xz"
   },
   "outputs": [],
   "source": [
    "@dataclass\n",
    "class Config:\n",
    "    vocab_size: int\n",
    "    example_number: int\n",
    "    batch_size: int\n",
    "    buffer_size: int\n",
    "    rnn_units: int\n",
    "    hidden_dim: int\n",
    "    embedding_dim: int\n",
    "    reg_strength: float\n",
    "    lr: float\n",
    "    drop_rate: float\n",
    "        \n",
    "config = Config(vocab_size=21, # include gap\n",
    "                example_number=len(labels), \n",
    "                batch_size=16, \n",
    "                buffer_size=10000,\n",
    "                rnn_units=64,\n",
    "                hidden_dim=64,\n",
    "                embedding_dim=32,\n",
    "                reg_strength=0.01,\n",
    "                lr=1e-4,\n",
    "                drop_rate=0.2\n",
    "               )\n",
    "\n"
   ]
  },
  {
   "cell_type": "code",
   "execution_count": 22,
   "metadata": {
    "executionInfo": {
     "elapsed": 152,
     "status": "ok",
     "timestamp": 1645469980656,
     "user": {
      "displayName": "Mehrad Ansari",
      "photoUrl": "https://lh3.googleusercontent.com/a-/AOh14GiZPhg45Nd1_yfNPm8mZjNlT0CXVuPZiMuU4u4NBw=s64",
      "userId": "14408599939652581087"
     },
     "user_tz": 300
    },
    "id": "pC9ee3SEqxqq"
   },
   "outputs": [],
   "source": [
    "def counts_aa(vec):\n",
    "    counts =  tf.histogram_fixed_width(vec, [0, 20], nbins=21)[1:]\n",
    "    return counts /tf.reduce_sum(counts)\n",
    "\n",
    "def build_model(L):\n",
    "    inputs = tf.keras.Input(shape=(L,))\n",
    "    input_f = tf.keras.Input(shape=(20,))\n",
    "    # make embedding and indicate that 0 should be treated as padding mask\n",
    "    e = tf.keras.layers.Embedding(input_dim=config.vocab_size, \n",
    "                                        output_dim=config.embedding_dim,\n",
    "                                        mask_zero=True)(inputs)\n",
    "\n",
    "    # RNN layer\n",
    "    x = tf.keras.layers.Bidirectional(tf.keras.layers.LSTM(config.rnn_units, return_sequences=True))(e)\n",
    "    x = tf.keras.layers.Bidirectional(tf.keras.layers.LSTM(config.rnn_units))(x)\n",
    "    x = tf.keras.layers.Concatenate()([x, input_f])\n",
    "    x = tf.keras.layers.LayerNormalization()(x)\n",
    "    x = tf.keras.layers.Dropout(config.drop_rate)(x)\n",
    "    # a dense hidden layer\n",
    "    x = tf.keras.layers.Dense(\n",
    "        config.hidden_dim, \n",
    "        activation='relu', \n",
    "        kernel_regularizer=tf.keras.regularizers.l2(config.reg_strength))(x)\n",
    "    x = tf.keras.layers.LayerNormalization()(x)\n",
    "    x = tf.keras.layers.Dropout(config.drop_rate)(x)\n",
    "    x = tf.keras.layers.Dense(\n",
    "        config.hidden_dim // 4, \n",
    "        activation='relu', \n",
    "        kernel_regularizer=tf.keras.regularizers.l2(config.reg_strength))(x)\n",
    "    x = tf.keras.layers.LayerNormalization()(x)\n",
    "    x = tf.keras.layers.Dropout(config.drop_rate)(x)\n",
    "    # predicting prob, so no activation\n",
    "    yhat = tf.keras.layers.Dense(1)(x)\n",
    "\n",
    "    model = tf.keras.Model(inputs=[inputs, input_f], outputs=yhat, name='sol-rnn')\n",
    "    return model\n",
    "\n",
    "def build_infer_model(L):\n",
    "    inputs = tf.keras.Input(shape=(L,))\n",
    "    input_f = tf.keras.Input(shape=(20,))\n",
    "    # make embedding and indicate that 0 should be treated as padding mask\n",
    "    e = tf.keras.layers.Embedding(input_dim=config.vocab_size, \n",
    "                                        output_dim=config.embedding_dim,\n",
    "                                        mask_zero=True)(inputs)\n",
    "\n",
    "\n",
    "    # RNN layer\n",
    "    x = tf.keras.layers.Bidirectional(tf.keras.layers.LSTM(config.rnn_units, return_sequences=True))(e)\n",
    "    x = tf.keras.layers.Bidirectional(tf.keras.layers.LSTM(config.rnn_units))(x)\n",
    "    x = tf.keras.layers.Concatenate()([x, input_f])\n",
    "    x = tf.keras.layers.LayerNormalization()(x)\n",
    "    # a dense hidden layer\n",
    "    x = tf.keras.layers.Dense(\n",
    "        config.hidden_dim, \n",
    "        activation='relu')(x)\n",
    "    x = tf.keras.layers.LayerNormalization()(x)\n",
    "    x = tf.keras.layers.Dense(\n",
    "        config.hidden_dim // 4, \n",
    "        activation='relu')(x)\n",
    "    x = tf.keras.layers.LayerNormalization()(x)\n",
    "    # predicting prob, so no activation\n",
    "    yhat = tf.keras.layers.Dense(1, activation='sigmoid')(x)\n",
    "\n",
    "    model = tf.keras.Model(inputs=[inputs, input_f], outputs=yhat, name='sol-rnn-infer')\n",
    "    return model"
   ]
  },
  {
   "cell_type": "code",
   "execution_count": 23,
   "metadata": {
    "executionInfo": {
     "elapsed": 2,
     "status": "ok",
     "timestamp": 1645469980656,
     "user": {
      "displayName": "Mehrad Ansari",
      "photoUrl": "https://lh3.googleusercontent.com/a-/AOh14GiZPhg45Nd1_yfNPm8mZjNlT0CXVuPZiMuU4u4NBw=s64",
      "userId": "14408599939652581087"
     },
     "user_tz": 300
    },
    "id": "rg4sBeamoCOO"
   },
   "outputs": [],
   "source": [
    "if use_tpu:\n",
    "  tf.keras.backend.clear_session()\n",
    "\n",
    "  resolver = tf.distribute.cluster_resolver.TPUClusterResolver('grpc://' + os.environ['COLAB_TPU_ADDR'])\n",
    "  tf.config.experimental_connect_to_cluster(resolver)\n",
    "\n",
    "  # This is the TPU initialization code that has to be at the beginning.\n",
    "  tf.tpu.experimental.initialize_tpu_system(resolver)\n",
    "  print(\"All devices: \", tf.config.list_logical_devices('TPU'))\n",
    "\n",
    "  strategy = tf.distribute.experimental.TPUStrategy(resolver)\n"
   ]
  },
  {
   "cell_type": "code",
   "execution_count": 24,
   "metadata": {
    "executionInfo": {
     "elapsed": 4115,
     "status": "ok",
     "timestamp": 1645469984769,
     "user": {
      "displayName": "Mehrad Ansari",
      "photoUrl": "https://lh3.googleusercontent.com/a-/AOh14GiZPhg45Nd1_yfNPm8mZjNlT0CXVuPZiMuU4u4NBw=s64",
      "userId": "14408599939652581087"
     },
     "user_tz": 300
    },
    "id": "dXB1MlmMqAHT"
   },
   "outputs": [],
   "source": [
    "# we now need to shuffle before creating TF dataset\n",
    "# so that our train/test/val splits are random\n",
    "i = np.arange(len(labels))\n",
    "np.random.shuffle(i)\n",
    "np.random.shuffle(i)\n",
    "np.random.shuffle(i)\n",
    "shuffled_labels = labels[i]\n",
    "shuffled_features = features[i]\n",
    "data = tf.data.Dataset.from_tensor_slices((shuffled_features, shuffled_labels)).map(lambda x,y: ((x, counts_aa(x)), y))\n",
    "# now split into val, test, train and batch\n",
    "N = len(data)  \n",
    "L = None#features[0].shape[-1]\n",
    "split = int(0.1 * N)\n",
    "test_data = data.take(split).batch(config.batch_size)\n",
    "nontest = data.skip(split)\n",
    "val_data, train_data = nontest.take(split).batch(config.batch_size), \\\n",
    "    nontest.skip(split).shuffle(config.buffer_size).batch(config.batch_size).prefetch(tf.data.experimental.AUTOTUNE)"
   ]
  },
  {
   "cell_type": "code",
   "execution_count": 25,
   "metadata": {
    "executionInfo": {
     "elapsed": 11404,
     "status": "ok",
     "timestamp": 1645469996165,
     "user": {
      "displayName": "Mehrad Ansari",
      "photoUrl": "https://lh3.googleusercontent.com/a-/AOh14GiZPhg45Nd1_yfNPm8mZjNlT0CXVuPZiMuU4u4NBw=s64",
      "userId": "14408599939652581087"
     },
     "user_tz": 300
    },
    "id": "W8WI1JiDy9J2"
   },
   "outputs": [],
   "source": [
    "tf.keras.backend.clear_session()\n",
    "if use_tpu:\n",
    "  with strategy.scope():\n",
    "    model = build_model(L)\n",
    "else:\n",
    "  model = build_model(L)\n",
    "\n",
    "  # 50 epochs\n",
    "  decay_steps = N  // config.batch_size * 50\n",
    "  lr_decayed_fn = tf.keras.optimizers.schedules.CosineDecay(\n",
    "      config.lr, decay_steps, alpha=1e-3)\n",
    "  opt = tf.optimizers.Adam(lr_decayed_fn)\n",
    "  model.compile(\n",
    "      opt,\n",
    "      loss=tf.keras.losses.BinaryCrossentropy(from_logits=True),\n",
    "      steps_per_execution = 60 if use_tpu else None,\n",
    "      metrics=[tf.keras.metrics.AUC(from_logits=True), tf.keras.metrics.BinaryAccuracy(threshold=0)])"
   ]
  },
  {
   "cell_type": "code",
   "execution_count": 26,
   "metadata": {
    "colab": {
     "base_uri": "https://localhost:8080/"
    },
    "executionInfo": {
     "elapsed": 289,
     "status": "ok",
     "timestamp": 1645469996445,
     "user": {
      "displayName": "Mehrad Ansari",
      "photoUrl": "https://lh3.googleusercontent.com/a-/AOh14GiZPhg45Nd1_yfNPm8mZjNlT0CXVuPZiMuU4u4NBw=s64",
      "userId": "14408599939652581087"
     },
     "user_tz": 300
    },
    "id": "_M60Z2MiCmw9",
    "outputId": "0ac78871-fc5a-443e-c1e7-a76733c2bc67"
   },
   "outputs": [
    {
     "name": "stdout",
     "output_type": "stream",
     "text": [
      "Model: \"sol-rnn\"\n",
      "__________________________________________________________________________________________________\n",
      " Layer (type)                   Output Shape         Param #     Connected to                     \n",
      "==================================================================================================\n",
      " input_1 (InputLayer)           [(None, None)]       0           []                               \n",
      "                                                                                                  \n",
      " embedding (Embedding)          (None, None, 32)     672         ['input_1[0][0]']                \n",
      "                                                                                                  \n",
      " bidirectional (Bidirectional)  (None, None, 128)    49664       ['embedding[0][0]']              \n",
      "                                                                                                  \n",
      " bidirectional_1 (Bidirectional  (None, 128)         98816       ['bidirectional[0][0]']          \n",
      " )                                                                                                \n",
      "                                                                                                  \n",
      " input_2 (InputLayer)           [(None, 20)]         0           []                               \n",
      "                                                                                                  \n",
      " concatenate (Concatenate)      (None, 148)          0           ['bidirectional_1[0][0]',        \n",
      "                                                                  'input_2[0][0]']                \n",
      "                                                                                                  \n",
      " layer_normalization (LayerNorm  (None, 148)         296         ['concatenate[0][0]']            \n",
      " alization)                                                                                       \n",
      "                                                                                                  \n",
      " dropout (Dropout)              (None, 148)          0           ['layer_normalization[0][0]']    \n",
      "                                                                                                  \n",
      " dense (Dense)                  (None, 64)           9536        ['dropout[0][0]']                \n",
      "                                                                                                  \n",
      " layer_normalization_1 (LayerNo  (None, 64)          128         ['dense[0][0]']                  \n",
      " rmalization)                                                                                     \n",
      "                                                                                                  \n",
      " dropout_1 (Dropout)            (None, 64)           0           ['layer_normalization_1[0][0]']  \n",
      "                                                                                                  \n",
      " dense_1 (Dense)                (None, 16)           1040        ['dropout_1[0][0]']              \n",
      "                                                                                                  \n",
      " layer_normalization_2 (LayerNo  (None, 16)          32          ['dense_1[0][0]']                \n",
      " rmalization)                                                                                     \n",
      "                                                                                                  \n",
      " dropout_2 (Dropout)            (None, 16)           0           ['layer_normalization_2[0][0]']  \n",
      "                                                                                                  \n",
      " dense_2 (Dense)                (None, 1)            17          ['dropout_2[0][0]']              \n",
      "                                                                                                  \n",
      "==================================================================================================\n",
      "Total params: 160,201\n",
      "Trainable params: 160,201\n",
      "Non-trainable params: 0\n",
      "__________________________________________________________________________________________________\n"
     ]
    }
   ],
   "source": [
    "model.summary()"
   ]
  },
  {
   "cell_type": "code",
   "execution_count": 27,
   "metadata": {
    "colab": {
     "base_uri": "https://localhost:8080/"
    },
    "executionInfo": {
     "elapsed": 2730476,
     "status": "ok",
     "timestamp": 1645472726919,
     "user": {
      "displayName": "Mehrad Ansari",
      "photoUrl": "https://lh3.googleusercontent.com/a-/AOh14GiZPhg45Nd1_yfNPm8mZjNlT0CXVuPZiMuU4u4NBw=s64",
      "userId": "14408599939652581087"
     },
     "user_tz": 300
    },
    "id": "mVSlO4VizO-N",
    "outputId": "11976941-029a-4bb1-918c-349310ad1e08"
   },
   "outputs": [
    {
     "name": "stdout",
     "output_type": "stream",
     "text": [
      "lr = 1e-04\n",
      "Epoch 1/150\n",
      "923/923 [==============================] - 43s 37ms/step - loss: 1.7613 - auc: 0.5207 - binary_accuracy: 0.5147 - val_loss: 1.5030 - val_auc: 0.6136 - val_binary_accuracy: 0.5935\n",
      "lr = 9.993683e-05\n",
      "Epoch 2/150\n",
      "923/923 [==============================] - 30s 32ms/step - loss: 1.4059 - auc: 0.5592 - binary_accuracy: 0.5441 - val_loss: 1.2397 - val_auc: 0.6537 - val_binary_accuracy: 0.6087\n",
      "lr = 9.974747e-05\n",
      "Epoch 3/150\n",
      "923/923 [==============================] - 30s 32ms/step - loss: 1.1751 - auc: 0.6007 - binary_accuracy: 0.5790 - val_loss: 1.0658 - val_auc: 0.6692 - val_binary_accuracy: 0.6276\n",
      "lr = 9.9432415e-05\n",
      "Epoch 4/150\n",
      "923/923 [==============================] - 30s 32ms/step - loss: 1.0217 - auc: 0.6256 - binary_accuracy: 0.5992 - val_loss: 0.9420 - val_auc: 0.6686 - val_binary_accuracy: 0.6374\n",
      "lr = 9.899245e-05\n",
      "Epoch 5/150\n",
      "923/923 [==============================] - 30s 32ms/step - loss: 0.9129 - auc: 0.6528 - binary_accuracy: 0.6182 - val_loss: 0.8651 - val_auc: 0.6809 - val_binary_accuracy: 0.6401\n",
      "lr = 9.84287e-05\n",
      "Epoch 6/150\n",
      "923/923 [==============================] - 30s 32ms/step - loss: 0.8449 - auc: 0.6561 - binary_accuracy: 0.6192 - val_loss: 0.8002 - val_auc: 0.6879 - val_binary_accuracy: 0.6444\n",
      "lr = 9.774257e-05\n",
      "Epoch 7/150\n",
      "923/923 [==============================] - 30s 32ms/step - loss: 0.7986 - auc: 0.6613 - binary_accuracy: 0.6260 - val_loss: 0.7842 - val_auc: 0.6910 - val_binary_accuracy: 0.6000\n",
      "lr = 9.6935815e-05\n",
      "Epoch 8/150\n",
      "923/923 [==============================] - 30s 32ms/step - loss: 0.7606 - auc: 0.6724 - binary_accuracy: 0.6310 - val_loss: 0.7397 - val_auc: 0.6990 - val_binary_accuracy: 0.6396\n",
      "lr = 9.601046e-05\n",
      "Epoch 9/150\n",
      "923/923 [==============================] - 30s 32ms/step - loss: 0.7375 - auc: 0.6780 - binary_accuracy: 0.6395 - val_loss: 0.7112 - val_auc: 0.7046 - val_binary_accuracy: 0.6488\n",
      "lr = 9.496886e-05\n",
      "Epoch 10/150\n",
      "923/923 [==============================] - 30s 32ms/step - loss: 0.7149 - auc: 0.6857 - binary_accuracy: 0.6402 - val_loss: 0.6942 - val_auc: 0.7074 - val_binary_accuracy: 0.6509\n",
      "lr = 9.381365e-05\n",
      "Epoch 11/150\n",
      "923/923 [==============================] - 30s 32ms/step - loss: 0.7016 - auc: 0.6871 - binary_accuracy: 0.6433 - val_loss: 0.6851 - val_auc: 0.7112 - val_binary_accuracy: 0.6444\n",
      "lr = 9.2547736e-05\n",
      "Epoch 12/150\n",
      "923/923 [==============================] - 30s 32ms/step - loss: 0.6855 - auc: 0.6954 - binary_accuracy: 0.6432 - val_loss: 0.6835 - val_auc: 0.7088 - val_binary_accuracy: 0.6314\n",
      "lr = 9.117433e-05\n",
      "Epoch 13/150\n",
      "923/923 [==============================] - 30s 32ms/step - loss: 0.6788 - auc: 0.6954 - binary_accuracy: 0.6460 - val_loss: 0.6631 - val_auc: 0.7140 - val_binary_accuracy: 0.6585\n",
      "lr = 8.969691e-05\n",
      "Epoch 14/150\n",
      "923/923 [==============================] - 30s 32ms/step - loss: 0.6682 - auc: 0.7007 - binary_accuracy: 0.6481 - val_loss: 0.6565 - val_auc: 0.7203 - val_binary_accuracy: 0.6564\n",
      "lr = 8.81192e-05\n",
      "Epoch 15/150\n",
      "923/923 [==============================] - 30s 32ms/step - loss: 0.6627 - auc: 0.7006 - binary_accuracy: 0.6485 - val_loss: 0.6423 - val_auc: 0.7265 - val_binary_accuracy: 0.6585\n",
      "lr = 8.64452e-05\n",
      "Epoch 16/150\n",
      "923/923 [==============================] - 30s 32ms/step - loss: 0.6538 - auc: 0.7065 - binary_accuracy: 0.6541 - val_loss: 0.6396 - val_auc: 0.7226 - val_binary_accuracy: 0.6607\n",
      "lr = 8.467915e-05\n",
      "Epoch 17/150\n",
      "923/923 [==============================] - 30s 32ms/step - loss: 0.6466 - auc: 0.7115 - binary_accuracy: 0.6543 - val_loss: 0.6384 - val_auc: 0.7206 - val_binary_accuracy: 0.6477\n",
      "lr = 8.282551e-05\n",
      "Epoch 18/150\n",
      "923/923 [==============================] - 30s 32ms/step - loss: 0.6423 - auc: 0.7119 - binary_accuracy: 0.6538 - val_loss: 0.6393 - val_auc: 0.7204 - val_binary_accuracy: 0.6488\n",
      "lr = 8.088897e-05\n",
      "Epoch 19/150\n",
      "923/923 [==============================] - 30s 32ms/step - loss: 0.6352 - auc: 0.7151 - binary_accuracy: 0.6542 - val_loss: 0.6353 - val_auc: 0.7238 - val_binary_accuracy: 0.6434\n",
      "lr = 7.887442e-05\n",
      "Epoch 20/150\n",
      "923/923 [==============================] - 30s 32ms/step - loss: 0.6312 - auc: 0.7192 - binary_accuracy: 0.6617 - val_loss: 0.6313 - val_auc: 0.7223 - val_binary_accuracy: 0.6575\n",
      "lr = 7.678696e-05\n",
      "Epoch 21/150\n",
      "923/923 [==============================] - 30s 32ms/step - loss: 0.6288 - auc: 0.7187 - binary_accuracy: 0.6604 - val_loss: 0.6216 - val_auc: 0.7286 - val_binary_accuracy: 0.6612\n",
      "lr = 7.463188e-05\n",
      "Epoch 22/150\n",
      "923/923 [==============================] - 30s 32ms/step - loss: 0.6270 - auc: 0.7196 - binary_accuracy: 0.6593 - val_loss: 0.6196 - val_auc: 0.7321 - val_binary_accuracy: 0.6607\n",
      "lr = 7.2414616e-05\n",
      "Epoch 23/150\n",
      "923/923 [==============================] - 30s 32ms/step - loss: 0.6194 - auc: 0.7272 - binary_accuracy: 0.6690 - val_loss: 0.6414 - val_auc: 0.7198 - val_binary_accuracy: 0.6379\n",
      "lr = 7.014079e-05\n",
      "Epoch 24/150\n",
      "923/923 [==============================] - 30s 32ms/step - loss: 0.6197 - auc: 0.7223 - binary_accuracy: 0.6594 - val_loss: 0.6152 - val_auc: 0.7314 - val_binary_accuracy: 0.6634\n",
      "lr = 6.7816145e-05\n",
      "Epoch 25/150\n",
      "923/923 [==============================] - 30s 32ms/step - loss: 0.6144 - auc: 0.7288 - binary_accuracy: 0.6669 - val_loss: 0.6125 - val_auc: 0.7323 - val_binary_accuracy: 0.6596\n",
      "lr = 6.544656e-05\n",
      "Epoch 26/150\n",
      "923/923 [==============================] - 30s 32ms/step - loss: 0.6126 - auc: 0.7281 - binary_accuracy: 0.6638 - val_loss: 0.6212 - val_auc: 0.7231 - val_binary_accuracy: 0.6461\n",
      "lr = 6.303803e-05\n",
      "Epoch 27/150\n",
      "923/923 [==============================] - 30s 32ms/step - loss: 0.6110 - auc: 0.7312 - binary_accuracy: 0.6680 - val_loss: 0.6084 - val_auc: 0.7364 - val_binary_accuracy: 0.6650\n",
      "lr = 6.059665e-05\n",
      "Epoch 28/150\n",
      "923/923 [==============================] - 30s 32ms/step - loss: 0.6070 - auc: 0.7340 - binary_accuracy: 0.6679 - val_loss: 0.6056 - val_auc: 0.7360 - val_binary_accuracy: 0.6634\n",
      "lr = 5.81286e-05\n",
      "Epoch 29/150\n",
      "923/923 [==============================] - 30s 32ms/step - loss: 0.6049 - auc: 0.7364 - binary_accuracy: 0.6711 - val_loss: 0.6024 - val_auc: 0.7399 - val_binary_accuracy: 0.6683\n",
      "lr = 5.5640114e-05\n",
      "Epoch 30/150\n",
      "923/923 [==============================] - 30s 32ms/step - loss: 0.6043 - auc: 0.7368 - binary_accuracy: 0.6716 - val_loss: 0.6082 - val_auc: 0.7360 - val_binary_accuracy: 0.6580\n",
      "lr = 5.313748e-05\n",
      "Epoch 31/150\n",
      "923/923 [==============================] - 30s 32ms/step - loss: 0.5990 - auc: 0.7423 - binary_accuracy: 0.6780 - val_loss: 0.6023 - val_auc: 0.7398 - val_binary_accuracy: 0.6688\n",
      "lr = 5.0627044e-05\n",
      "Epoch 32/150\n",
      "923/923 [==============================] - 30s 32ms/step - loss: 0.6017 - auc: 0.7390 - binary_accuracy: 0.6757 - val_loss: 0.6045 - val_auc: 0.7391 - val_binary_accuracy: 0.6694\n",
      "lr = 4.8115147e-05\n",
      "Epoch 33/150\n",
      "923/923 [==============================] - 30s 32ms/step - loss: 0.5975 - auc: 0.7426 - binary_accuracy: 0.6764 - val_loss: 0.6094 - val_auc: 0.7353 - val_binary_accuracy: 0.6629\n",
      "lr = 4.560815e-05\n",
      "Epoch 34/150\n",
      "923/923 [==============================] - 30s 32ms/step - loss: 0.5961 - auc: 0.7438 - binary_accuracy: 0.6717 - val_loss: 0.6052 - val_auc: 0.7382 - val_binary_accuracy: 0.6726\n",
      "lr = 4.3112377e-05\n",
      "Epoch 35/150\n",
      "923/923 [==============================] - 30s 32ms/step - loss: 0.5942 - auc: 0.7454 - binary_accuracy: 0.6784 - val_loss: 0.6009 - val_auc: 0.7410 - val_binary_accuracy: 0.6721\n",
      "lr = 4.0634157e-05\n",
      "Epoch 36/150\n",
      "923/923 [==============================] - 30s 32ms/step - loss: 0.5919 - auc: 0.7467 - binary_accuracy: 0.6793 - val_loss: 0.5989 - val_auc: 0.7404 - val_binary_accuracy: 0.6688\n",
      "lr = 3.8179758e-05\n",
      "Epoch 37/150\n",
      "923/923 [==============================] - 29s 32ms/step - loss: 0.5922 - auc: 0.7488 - binary_accuracy: 0.6792 - val_loss: 0.6002 - val_auc: 0.7406 - val_binary_accuracy: 0.6678\n",
      "lr = 3.5755376e-05\n",
      "Epoch 38/150\n",
      "923/923 [==============================] - 30s 32ms/step - loss: 0.5897 - auc: 0.7524 - binary_accuracy: 0.6887 - val_loss: 0.5958 - val_auc: 0.7419 - val_binary_accuracy: 0.6780\n",
      "lr = 3.3367145e-05\n",
      "Epoch 39/150\n",
      "923/923 [==============================] - 30s 32ms/step - loss: 0.5872 - auc: 0.7539 - binary_accuracy: 0.6876 - val_loss: 0.5996 - val_auc: 0.7391 - val_binary_accuracy: 0.6732\n",
      "lr = 3.1021118e-05\n",
      "Epoch 40/150\n"
     ]
    },
    {
     "name": "stdout",
     "output_type": "stream",
     "text": [
      "923/923 [==============================] - 30s 32ms/step - loss: 0.5847 - auc: 0.7557 - binary_accuracy: 0.6923 - val_loss: 0.5943 - val_auc: 0.7452 - val_binary_accuracy: 0.6715\n",
      "lr = 2.8723221e-05\n",
      "Epoch 41/150\n",
      "923/923 [==============================] - 30s 32ms/step - loss: 0.5838 - auc: 0.7574 - binary_accuracy: 0.6868 - val_loss: 0.6010 - val_auc: 0.7400 - val_binary_accuracy: 0.6699\n",
      "lr = 2.647928e-05\n",
      "Epoch 42/150\n",
      "923/923 [==============================] - 30s 32ms/step - loss: 0.5834 - auc: 0.7575 - binary_accuracy: 0.6911 - val_loss: 0.5966 - val_auc: 0.7430 - val_binary_accuracy: 0.6780\n",
      "lr = 2.4294945e-05\n",
      "Epoch 43/150\n",
      "923/923 [==============================] - 30s 32ms/step - loss: 0.5805 - auc: 0.7596 - binary_accuracy: 0.6903 - val_loss: 0.5976 - val_auc: 0.7417 - val_binary_accuracy: 0.6683\n",
      "lr = 2.2175756e-05\n",
      "Epoch 44/150\n",
      "923/923 [==============================] - 30s 32ms/step - loss: 0.5815 - auc: 0.7591 - binary_accuracy: 0.6958 - val_loss: 0.5981 - val_auc: 0.7435 - val_binary_accuracy: 0.6743\n",
      "lr = 2.0127072e-05\n",
      "Epoch 45/150\n",
      "923/923 [==============================] - 30s 32ms/step - loss: 0.5826 - auc: 0.7571 - binary_accuracy: 0.6934 - val_loss: 0.5992 - val_auc: 0.7413 - val_binary_accuracy: 0.6715\n",
      "lr = 1.815407e-05\n",
      "Epoch 46/150\n",
      "923/923 [==============================] - 30s 32ms/step - loss: 0.5784 - auc: 0.7624 - binary_accuracy: 0.6934 - val_loss: 0.5997 - val_auc: 0.7392 - val_binary_accuracy: 0.6715\n"
     ]
    }
   ],
   "source": [
    "# model.fit(\n",
    "#     train_data, \n",
    "#     validation_data=val_data, \n",
    "#     callbacks=[tf.keras.callbacks.LambdaCallback(\n",
    "#         on_epoch_begin=lambda epochs,logs: print('lr =',lr_decayed_fn(opt.iterations).numpy())\n",
    "#         )],\n",
    "#     epochs=100)\n",
    "\n",
    "result = model.fit(\n",
    "    train_data, \n",
    "    validation_data=val_data, \n",
    "    callbacks=[tf.keras.callbacks.LambdaCallback(\n",
    "        on_epoch_begin=lambda epochs,logs: print('lr =',lr_decayed_fn(opt.iterations).numpy())\n",
    "        ),\n",
    "          tf.keras.callbacks.EarlyStopping(monitor='val_auc', mode='max', restore_best_weights=True, patience=5)],\n",
    "    epochs=150)\n",
    "\n"
   ]
  },
  {
   "cell_type": "code",
   "execution_count": 28,
   "metadata": {
    "colab": {
     "base_uri": "https://localhost:8080/",
     "height": 282
    },
    "executionInfo": {
     "elapsed": 5361,
     "status": "ok",
     "timestamp": 1645472732278,
     "user": {
      "displayName": "Mehrad Ansari",
      "photoUrl": "https://lh3.googleusercontent.com/a-/AOh14GiZPhg45Nd1_yfNPm8mZjNlT0CXVuPZiMuU4u4NBw=s64",
      "userId": "14408599939652581087"
     },
     "user_tz": 300
    },
    "id": "8p0C2kHV2vrW",
    "outputId": "4dac8973-0337-447a-e684-42d657c1ae41"
   },
   "outputs": [
    {
     "name": "stdout",
     "output_type": "stream",
     "text": [
      "116/116 [==============================] - 2s 13ms/step - loss: 0.5890 - auc: 0.7497 - binary_accuracy: 0.6916\n"
     ]
    },
    {
     "data": {
      "image/png": "[encoded data removed]",
      "text/plain": [
       "<Figure size 432x288 with 1 Axes>"
      ]
     },
     "metadata": {
      "needs_background": "light"
     },
     "output_type": "display_data"
    }
   ],
   "source": [
    "plt.plot(result.history['val_binary_accuracy'])\n",
    "test_result = model.evaluate(test_data)\n",
    "plt.show()"
   ]
  },
  {
   "cell_type": "code",
   "execution_count": 29,
   "metadata": {
    "executionInfo": {
     "elapsed": 4809,
     "status": "ok",
     "timestamp": 1645472737083,
     "user": {
      "displayName": "Mehrad Ansari",
      "photoUrl": "https://lh3.googleusercontent.com/a-/AOh14GiZPhg45Nd1_yfNPm8mZjNlT0CXVuPZiMuU4u4NBw=s64",
      "userId": "14408599939652581087"
     },
     "user_tz": 300
    },
    "id": "rOfgoKtsU1K-"
   },
   "outputs": [],
   "source": [
    "inference_model = build_infer_model(L)\n",
    "\n",
    "inference_model.set_weights(model.get_weights())"
   ]
  },
  {
   "cell_type": "code",
   "execution_count": 30,
   "metadata": {
    "colab": {
     "base_uri": "https://localhost:8080/"
    },
    "executionInfo": {
     "elapsed": 6582,
     "status": "ok",
     "timestamp": 1645472743662,
     "user": {
      "displayName": "Mehrad Ansari",
      "photoUrl": "https://lh3.googleusercontent.com/a-/AOh14GiZPhg45Nd1_yfNPm8mZjNlT0CXVuPZiMuU4u4NBw=s64",
      "userId": "14408599939652581087"
     },
     "user_tz": 300
    },
    "id": "vm_yXNslzRGu",
    "outputId": "78488a97-6cec-4024-e5ed-4d97bf2ac354"
   },
   "outputs": [
    {
     "data": {
      "text/plain": [
       "<tf.Tensor: shape=(1, 1), dtype=float32, numpy=array([[0.97889006]], dtype=float32)>"
      ]
     },
     "execution_count": 30,
     "metadata": {},
     "output_type": "execute_result"
    }
   ],
   "source": [
    "inference_model([np.array([1,1,1,1]).reshape(1,-1), np.array(np.ones(20)/20).reshape(1,-1)])"
   ]
  },
  {
   "cell_type": "code",
   "execution_count": 31,
   "metadata": {
    "colab": {
     "base_uri": "https://localhost:8080/"
    },
    "executionInfo": {
     "elapsed": 171,
     "status": "ok",
     "timestamp": 1645472743830,
     "user": {
      "displayName": "Mehrad Ansari",
      "photoUrl": "https://lh3.googleusercontent.com/a-/AOh14GiZPhg45Nd1_yfNPm8mZjNlT0CXVuPZiMuU4u4NBw=s64",
      "userId": "14408599939652581087"
     },
     "user_tz": 300
    },
    "id": "aDvdjpMmz7UA",
    "outputId": "bfcad2a9-8e09-4bd5-bf3f-2e3ebbead367"
   },
   "outputs": [
    {
     "name": "stdout",
     "output_type": "stream",
     "text": [
      "WARNING:tensorflow:Compiled the loaded model, but the compiled metrics have yet to be built. `model.compile_metrics` will be empty until you train or evaluate the model.\n"
     ]
    }
   ],
   "source": [
    "tfjs.converters.save_keras_model(inference_model, \"tfjs_model\")"
   ]
  },
  {
   "cell_type": "markdown",
   "metadata": {
    "id": "bCdM_rbZfmDQ"
   },
   "source": [
    "# Model Card"
   ]
  },
  {
   "cell_type": "code",
   "execution_count": 32,
   "metadata": {
    "colab": {
     "base_uri": "https://localhost:8080/"
    },
    "executionInfo": {
     "elapsed": 3,
     "status": "ok",
     "timestamp": 1645472743830,
     "user": {
      "displayName": "Mehrad Ansari",
      "photoUrl": "https://lh3.googleusercontent.com/a-/AOh14GiZPhg45Nd1_yfNPm8mZjNlT0CXVuPZiMuU4u4NBw=s64",
      "userId": "14408599939652581087"
     },
     "user_tz": 300
    },
    "id": "8x0RLsUSfmdR",
    "outputId": "be4a381d-5059-4465-e374-f2142e50d09e"
   },
   "outputs": [
    {
     "name": "stdout",
     "output_type": "stream",
     "text": [
      "{\n",
      " \"title\": \"Solubility Prediction\",\n",
      " \"details\": \"Recurrent (GRU) neural network for predicting solubility. Developed by Andrew White using data from PROSO II database in TFJS.\",\n",
      " \"use\": \"Peptides or proteins expressed in E. coli that are less than 200 residues long. May provide solubility predictions more broadly applicable.\",\n",
      " \"factors\": \"Solubility was defined in PROSO II as sequence that was transfectable, expressible, secretable, separable, and soluble in E. coli system.\",\n",
      " \"metrics\": \"Test accuracy 0.69. Test AUC 0.75\",\n",
      " \"evaluation\": \"Withheld positive and negative examples\",\n",
      " \"training\": \"18453 positive and negative sequences.\",\n",
      " \"caveats\": \"This data is mostly long sequences and so may not be as applicable to solid-phase synthesized peptides. The model accuracy is low.\",\n",
      " \"ethics\": \"None noted\"\n",
      "}\n"
     ]
    }
   ],
   "source": [
    "model_card = {\n",
    "    'title': 'Solubility Prediction',\n",
    "    'details': 'Recurrent (GRU) neural network for predicting solubility. Developed by Andrew White using data from PROSO II database in TFJS.',\n",
    "    'use': 'Peptides or proteins expressed in E. coli that are less than 200 residues long. May provide solubility predictions more broadly applicable.',\n",
    "    'factors': 'Solubility was defined in PROSO II as sequence that was transfectable, expressible, secretable, separable, and soluble in E. coli system.',\n",
    "    'metrics': f'Test accuracy {test_result[2]:.2f}. Test AUC {test_result[1]:.2f}',\n",
    "    'evaluation': 'Withheld positive and negative examples',\n",
    "    'training': f'{len(pos_data) + len(neg_data)} positive (length range: {np.min(pos_data_lengths)}-{np.max(pos_data_lengths)}) and negative (length range: {np.min(neg_data_lengths)}-{np.max(neg_data_lengths)}) sequences.',\n",
    "    'caveats': 'This data is mostly long sequences and so may not be as applicable to solid-phase synthesized peptides. The model accuracy is low.',\n",
    "    'ethics': 'None noted'\n",
    "}\n",
    "with open('card.json', 'w') as f:\n",
    "  json.dump(model_card, f)\n",
    "print(json.dumps(model_card, indent=True))"
   ]
  }
 ],
 "metadata": {
  "accelerator": "GPU",
  "colab": {
   "collapsed_sections": [],
   "name": "Sol-RNN.ipynb",
   "provenance": []
  },
  "kernelspec": {
   "display_name": "Python 3",
   "language": "python",
   "name": "serverless"
  },
  "language_info": {
   "codemirror_mode": {
    "name": "ipython",
    "version": 3
   },
   "file_extension": ".py",
   "mimetype": "text/x-python",
   "name": "python",
   "nbconvert_exporter": "python",
   "pygments_lexer": "ipython3",
   "version": "3.8.13"
  }
 },
 "nbformat": 4,
 "nbformat_minor": 1
}
