{
 "cells": [
  {
   "cell_type": "code",
   "execution_count": 1,
   "metadata": {
    "colab": {
     "base_uri": "https://localhost:8080/"
    },
    "executionInfo": {
     "elapsed": 14454,
     "status": "ok",
     "timestamp": 1645469974022,
     "user": {
      "displayName": "Mehrad Ansari",
      "photoUrl": "https://lh3.googleusercontent.com/a-/AOh14GiZPhg45Nd1_yfNPm8mZjNlT0CXVuPZiMuU4u4NBw=s64",
      "userId": "14408599939652581087"
     },
     "user_tz": 300
    },
    "id": "FLdQgeg6ruk5",
    "outputId": "5866c639-a223-4285-d6e8-566a24bbebd9"
   },
   "outputs": [
    {
     "name": "stdout",
     "output_type": "stream",
     "text": [
      "\u001b[K     |████████████████████████████████| 77 kB 2.1 MB/s \n",
      "\u001b[K     |████████████████████████████████| 462 kB 11.8 MB/s \n",
      "\u001b[?25hMon Feb 21 18:59:34 2022       \n",
      "+-----------------------------------------------------------------------------+\n",
      "| NVIDIA-SMI 460.32.03    Driver Version: 460.32.03    CUDA Version: 11.2     |\n",
      "|-------------------------------+----------------------+----------------------+\n",
      "| GPU  Name        Persistence-M| Bus-Id        Disp.A | Volatile Uncorr. ECC |\n",
      "| Fan  Temp  Perf  Pwr:Usage/Cap|         Memory-Usage | GPU-Util  Compute M. |\n",
      "|                               |                      |               MIG M. |\n",
      "|===============================+======================+======================|\n",
      "|   0  Tesla K80           Off  | 00000000:00:04.0 Off |                    0 |\n",
      "| N/A   40C    P8    28W / 149W |      0MiB / 11441MiB |      0%      Default |\n",
      "|                               |                      |                  N/A |\n",
      "+-------------------------------+----------------------+----------------------+\n",
      "                                                                               \n",
      "+-----------------------------------------------------------------------------+\n",
      "| Processes:                                                                  |\n",
      "|  GPU   GI   CI        PID   Type   Process name                  GPU Memory |\n",
      "|        ID   ID                                                   Usage      |\n",
      "|=============================================================================|\n",
      "|  No running processes found                                                 |\n",
      "+-----------------------------------------------------------------------------+\n"
     ]
    }
   ],
   "source": [
    "!pip install -q tensorflowjs\n",
    "!nvidia-smi"
   ]
  },
  {
   "cell_type": "code",
   "execution_count": 1,
   "metadata": {
    "executionInfo": {
     "elapsed": 13,
     "status": "ok",
     "timestamp": 1645469974023,
     "user": {
      "displayName": "Mehrad Ansari",
      "photoUrl": "https://lh3.googleusercontent.com/a-/AOh14GiZPhg45Nd1_yfNPm8mZjNlT0CXVuPZiMuU4u4NBw=s64",
      "userId": "14408599939652581087"
     },
     "user_tz": 300
    },
    "id": "kN5GDHK6riEe"
   },
   "outputs": [],
   "source": [
    "#@title Runtime\n",
    "use_tpu = False #@param\n"
   ]
  },
  {
   "cell_type": "code",
   "execution_count": 2,
   "metadata": {
    "executionInfo": {
     "elapsed": 5136,
     "status": "ok",
     "timestamp": 1645469979148,
     "user": {
      "displayName": "Mehrad Ansari",
      "photoUrl": "https://lh3.googleusercontent.com/a-/AOh14GiZPhg45Nd1_yfNPm8mZjNlT0CXVuPZiMuU4u4NBw=s64",
      "userId": "14408599939652581087"
     },
     "user_tz": 300
    },
    "id": "PW7wdIp7py9V"
   },
   "outputs": [],
   "source": [
    "import matplotlib.pyplot as plt\n",
    "import matplotlib as mpl\n",
    "import numpy as np\n",
    "import os\n",
    "import tensorflow as tf\n",
    "import urllib\n",
    "from dataclasses import dataclass\n",
    "import tensorflowjs as tfjs\n",
    "import json\n",
    "np.random.seed(0)"
   ]
  },
  {
   "cell_type": "code",
   "execution_count": 3,
   "metadata": {
    "executionInfo": {
     "elapsed": 1358,
     "status": "ok",
     "timestamp": 1645469980505,
     "user": {
      "displayName": "Mehrad Ansari",
      "photoUrl": "https://lh3.googleusercontent.com/a-/AOh14GiZPhg45Nd1_yfNPm8mZjNlT0CXVuPZiMuU4u4NBw=s64",
      "userId": "14408599939652581087"
     },
     "user_tz": 300
    },
    "id": "-az13Rv1p6xr"
   },
   "outputs": [],
   "source": [
    "urllib.request.urlretrieve(\n",
    "    \"https://github.com/ur-whitelab/peptide-dashboard/raw/master/ml/data/insoluble.npz\",\n",
    "    \"insoluble.npz\",\n",
    ")\n",
    "urllib.request.urlretrieve(\n",
    "    \"https://github.com/ur-whitelab/peptide-dashboard/raw/master/ml/data/soluble.npz\",\n",
    "    \"soluble.npz\",\n",
    ")\n",
    "with np.load(\"soluble.npz\") as r:\n",
    "    pos_data = r['arr_0']\n",
    "with np.load(\"insoluble.npz\") as r:\n",
    "    neg_data = r['arr_0']\n",
    "\n",
    "# create labels and stich it all into one\n",
    "# tensor\n",
    "labels = np.concatenate(\n",
    "    (\n",
    "        np.ones((pos_data.shape[0], 1), dtype=pos_data.dtype),\n",
    "        np.zeros((neg_data.shape[0], 1), dtype=pos_data.dtype),\n",
    "    ),\n",
    "    axis=0,\n",
    ")\n",
    "features = np.concatenate((pos_data, neg_data), axis=0)\n",
    "pos_data_lengths = np.count_nonzero(pos_data, axis=1)\n",
    "neg_data_lengths = np.count_nonzero(neg_data, axis=1)"
   ]
  },
  {
   "cell_type": "code",
   "execution_count": 4,
   "metadata": {
    "colab": {
     "base_uri": "https://localhost:8080/"
    },
    "executionInfo": {
     "elapsed": 6,
     "status": "ok",
     "timestamp": 1645469980506,
     "user": {
      "displayName": "Mehrad Ansari",
      "photoUrl": "https://lh3.googleusercontent.com/a-/AOh14GiZPhg45Nd1_yfNPm8mZjNlT0CXVuPZiMuU4u4NBw=s64",
      "userId": "14408599939652581087"
     },
     "user_tz": 300
    },
    "id": "r6kg_YZyhQ7v",
    "outputId": "d9b87e52-2eac-459a-8286-bb03f9fbb55e"
   },
   "outputs": [
    {
     "name": "stdout",
     "output_type": "stream",
     "text": [
      "Positive data 8785\n",
      "Negative data 9668\n"
     ]
    }
   ],
   "source": [
    "print('Positive data', pos_data.shape[0])\n",
    "print('Negative data', neg_data.shape[0])"
   ]
  },
  {
   "cell_type": "code",
   "execution_count": 5,
   "metadata": {
    "executionInfo": {
     "elapsed": 3,
     "status": "ok",
     "timestamp": 1645469980506,
     "user": {
      "displayName": "Mehrad Ansari",
      "photoUrl": "https://lh3.googleusercontent.com/a-/AOh14GiZPhg45Nd1_yfNPm8mZjNlT0CXVuPZiMuU4u4NBw=s64",
      "userId": "14408599939652581087"
     },
     "user_tz": 300
    },
    "id": "4o1kwH0dy_xz"
   },
   "outputs": [],
   "source": [
    "@dataclass\n",
    "class Config:\n",
    "    vocab_size: int\n",
    "    example_number: int\n",
    "    batch_size: int\n",
    "    buffer_size: int\n",
    "    rnn_units: int\n",
    "    hidden_dim: int\n",
    "    embedding_dim: int\n",
    "    reg_strength: float\n",
    "    lr: float\n",
    "    drop_rate: float\n",
    "        \n",
    "config = Config(vocab_size=21, # include gap\n",
    "                example_number=len(labels), \n",
    "                batch_size=16, \n",
    "                buffer_size=10000,\n",
    "                rnn_units=64,\n",
    "                hidden_dim=64,\n",
    "                embedding_dim=32,\n",
    "                reg_strength=0.01,\n",
    "                lr=1e-4,\n",
    "                drop_rate=0.2\n",
    "               )\n",
    "\n"
   ]
  },
  {
   "cell_type": "code",
   "execution_count": 6,
   "metadata": {
    "executionInfo": {
     "elapsed": 152,
     "status": "ok",
     "timestamp": 1645469980656,
     "user": {
      "displayName": "Mehrad Ansari",
      "photoUrl": "https://lh3.googleusercontent.com/a-/AOh14GiZPhg45Nd1_yfNPm8mZjNlT0CXVuPZiMuU4u4NBw=s64",
      "userId": "14408599939652581087"
     },
     "user_tz": 300
    },
    "id": "pC9ee3SEqxqq"
   },
   "outputs": [],
   "source": [
    "def counts_aa(vec):\n",
    "    counts =  tf.histogram_fixed_width(vec, [0, 20], nbins=21)[1:]\n",
    "    return counts /tf.reduce_sum(counts)\n",
    "\n",
    "def build_model(L):\n",
    "    inputs = tf.keras.Input(shape=(L,))\n",
    "    input_f = tf.keras.Input(shape=(20,))\n",
    "    # make embedding and indicate that 0 should be treated as padding mask\n",
    "    e = tf.keras.layers.Embedding(input_dim=config.vocab_size, \n",
    "                                        output_dim=config.embedding_dim,\n",
    "                                        mask_zero=True)(inputs)\n",
    "\n",
    "    # RNN layer\n",
    "    x = tf.keras.layers.Bidirectional(tf.keras.layers.LSTM(config.rnn_units, return_sequences=True))(e)\n",
    "    x = tf.keras.layers.Bidirectional(tf.keras.layers.LSTM(config.rnn_units))(x)\n",
    "    x = tf.keras.layers.Concatenate()([x, input_f])\n",
    "    x = tf.keras.layers.LayerNormalization()(x)\n",
    "    x = tf.keras.layers.Dropout(config.drop_rate)(x)\n",
    "    # a dense hidden layer\n",
    "    x = tf.keras.layers.Dense(\n",
    "        config.hidden_dim, \n",
    "        activation='relu', \n",
    "        kernel_regularizer=tf.keras.regularizers.l2(config.reg_strength))(x)\n",
    "    x = tf.keras.layers.LayerNormalization()(x)\n",
    "    x = tf.keras.layers.Dropout(config.drop_rate)(x)\n",
    "    x = tf.keras.layers.Dense(\n",
    "        config.hidden_dim // 4, \n",
    "        activation='relu', \n",
    "        kernel_regularizer=tf.keras.regularizers.l2(config.reg_strength))(x)\n",
    "    x = tf.keras.layers.LayerNormalization()(x)\n",
    "    x = tf.keras.layers.Dropout(config.drop_rate)(x)\n",
    "    # predicting prob, so no activation\n",
    "    yhat = tf.keras.layers.Dense(1)(x)\n",
    "\n",
    "    model = tf.keras.Model(inputs=[inputs, input_f], outputs=yhat, name='sol-rnn')\n",
    "    return model\n",
    "\n",
    "def build_infer_model(L):\n",
    "    inputs = tf.keras.Input(shape=(L,))\n",
    "    input_f = tf.keras.Input(shape=(20,))\n",
    "    # make embedding and indicate that 0 should be treated as padding mask\n",
    "    e = tf.keras.layers.Embedding(input_dim=config.vocab_size, \n",
    "                                        output_dim=config.embedding_dim,\n",
    "                                        mask_zero=True)(inputs)\n",
    "\n",
    "\n",
    "    # RNN layer\n",
    "    x = tf.keras.layers.Bidirectional(tf.keras.layers.LSTM(config.rnn_units, return_sequences=True))(e)\n",
    "    x = tf.keras.layers.Bidirectional(tf.keras.layers.LSTM(config.rnn_units))(x)\n",
    "    x = tf.keras.layers.Concatenate()([x, input_f])\n",
    "    x = tf.keras.layers.LayerNormalization()(x)\n",
    "    # a dense hidden layer\n",
    "    x = tf.keras.layers.Dense(\n",
    "        config.hidden_dim, \n",
    "        activation='relu')(x)\n",
    "    x = tf.keras.layers.LayerNormalization()(x)\n",
    "    x = tf.keras.layers.Dense(\n",
    "        config.hidden_dim // 4, \n",
    "        activation='relu')(x)\n",
    "    x = tf.keras.layers.LayerNormalization()(x)\n",
    "    # predicting prob, so no activation\n",
    "    yhat = tf.keras.layers.Dense(1, activation='sigmoid')(x)\n",
    "\n",
    "    model = tf.keras.Model(inputs=[inputs, input_f], outputs=yhat, name='sol-rnn-infer')\n",
    "    return model"
   ]
  },
  {
   "cell_type": "code",
   "execution_count": 7,
   "metadata": {
    "executionInfo": {
     "elapsed": 2,
     "status": "ok",
     "timestamp": 1645469980656,
     "user": {
      "displayName": "Mehrad Ansari",
      "photoUrl": "https://lh3.googleusercontent.com/a-/AOh14GiZPhg45Nd1_yfNPm8mZjNlT0CXVuPZiMuU4u4NBw=s64",
      "userId": "14408599939652581087"
     },
     "user_tz": 300
    },
    "id": "rg4sBeamoCOO"
   },
   "outputs": [],
   "source": [
    "if use_tpu:\n",
    "  tf.keras.backend.clear_session()\n",
    "\n",
    "  resolver = tf.distribute.cluster_resolver.TPUClusterResolver('grpc://' + os.environ['COLAB_TPU_ADDR'])\n",
    "  tf.config.experimental_connect_to_cluster(resolver)\n",
    "\n",
    "  # This is the TPU initialization code that has to be at the beginning.\n",
    "  tf.tpu.experimental.initialize_tpu_system(resolver)\n",
    "  print(\"All devices: \", tf.config.list_logical_devices('TPU'))\n",
    "\n",
    "  strategy = tf.distribute.experimental.TPUStrategy(resolver)\n"
   ]
  },
  {
   "cell_type": "code",
   "execution_count": 18,
   "metadata": {
    "executionInfo": {
     "elapsed": 4115,
     "status": "ok",
     "timestamp": 1645469984769,
     "user": {
      "displayName": "Mehrad Ansari",
      "photoUrl": "https://lh3.googleusercontent.com/a-/AOh14GiZPhg45Nd1_yfNPm8mZjNlT0CXVuPZiMuU4u4NBw=s64",
      "userId": "14408599939652581087"
     },
     "user_tz": 300
    },
    "id": "dXB1MlmMqAHT"
   },
   "outputs": [],
   "source": [
    "# we now need to shuffle before creating TF dataset\n",
    "# so that our train/test/val splits are random\n",
    "i = np.arange(len(labels))\n",
    "np.random.shuffle(i)\n",
    "np.random.shuffle(i)\n",
    "np.random.shuffle(i)\n",
    "shuffled_labels = labels[i]\n",
    "shuffled_features = features[i]\n",
    "data = tf.data.Dataset.from_tensor_slices((shuffled_features, shuffled_labels)).map(lambda x,y: ((x, counts_aa(x)), y))\n",
    "# now split into val, test, train and batch\n",
    "N = len(data)  \n",
    "L = None#features[0].shape[-1]\n",
    "split = int(0.1 * N)\n",
    "test_data = data.take(split).batch(config.batch_size)\n",
    "nontest = data.skip(split)\n",
    "val_data, train_data = nontest.take(split).batch(config.batch_size), \\\n",
    "    nontest.skip(split).shuffle(config.buffer_size).batch(config.batch_size).prefetch(tf.data.experimental.AUTOTUNE)"
   ]
  },
  {
   "cell_type": "code",
   "execution_count": 19,
   "metadata": {
    "executionInfo": {
     "elapsed": 11404,
     "status": "ok",
     "timestamp": 1645469996165,
     "user": {
      "displayName": "Mehrad Ansari",
      "photoUrl": "https://lh3.googleusercontent.com/a-/AOh14GiZPhg45Nd1_yfNPm8mZjNlT0CXVuPZiMuU4u4NBw=s64",
      "userId": "14408599939652581087"
     },
     "user_tz": 300
    },
    "id": "W8WI1JiDy9J2"
   },
   "outputs": [],
   "source": [
    "tf.keras.backend.clear_session()\n",
    "if use_tpu:\n",
    "  with strategy.scope():\n",
    "    model = build_model(L)\n",
    "else:\n",
    "  model = build_model(L)\n",
    "\n",
    "  # 50 epochs\n",
    "  decay_steps = N  // config.batch_size * 50\n",
    "  lr_decayed_fn = tf.keras.optimizers.schedules.CosineDecay(\n",
    "      config.lr, decay_steps, alpha=1e-3)\n",
    "  opt = tf.optimizers.Adam(lr_decayed_fn)\n",
    "  model.compile(\n",
    "      opt,\n",
    "      loss=tf.keras.losses.BinaryCrossentropy(from_logits=True),\n",
    "      steps_per_execution = 60 if use_tpu else None,\n",
    "      metrics=[tf.keras.metrics.AUC(from_logits=True), tf.keras.metrics.BinaryAccuracy(threshold=0)])"
   ]
  },
  {
   "cell_type": "code",
   "execution_count": 20,
   "metadata": {
    "colab": {
     "base_uri": "https://localhost:8080/"
    },
    "executionInfo": {
     "elapsed": 289,
     "status": "ok",
     "timestamp": 1645469996445,
     "user": {
      "displayName": "Mehrad Ansari",
      "photoUrl": "https://lh3.googleusercontent.com/a-/AOh14GiZPhg45Nd1_yfNPm8mZjNlT0CXVuPZiMuU4u4NBw=s64",
      "userId": "14408599939652581087"
     },
     "user_tz": 300
    },
    "id": "_M60Z2MiCmw9",
    "outputId": "0ac78871-fc5a-443e-c1e7-a76733c2bc67"
   },
   "outputs": [
    {
     "name": "stdout",
     "output_type": "stream",
     "text": [
      "Model: \"sol-rnn\"\n",
      "__________________________________________________________________________________________________\n",
      " Layer (type)                   Output Shape         Param #     Connected to                     \n",
      "==================================================================================================\n",
      " input_1 (InputLayer)           [(None, None)]       0           []                               \n",
      "                                                                                                  \n",
      " embedding (Embedding)          (None, None, 32)     672         ['input_1[0][0]']                \n",
      "                                                                                                  \n",
      " bidirectional (Bidirectional)  (None, None, 128)    49664       ['embedding[0][0]']              \n",
      "                                                                                                  \n",
      " bidirectional_1 (Bidirectional  (None, 128)         98816       ['bidirectional[0][0]']          \n",
      " )                                                                                                \n",
      "                                                                                                  \n",
      " input_2 (InputLayer)           [(None, 20)]         0           []                               \n",
      "                                                                                                  \n",
      " concatenate (Concatenate)      (None, 148)          0           ['bidirectional_1[0][0]',        \n",
      "                                                                  'input_2[0][0]']                \n",
      "                                                                                                  \n",
      " layer_normalization (LayerNorm  (None, 148)         296         ['concatenate[0][0]']            \n",
      " alization)                                                                                       \n",
      "                                                                                                  \n",
      " dropout (Dropout)              (None, 148)          0           ['layer_normalization[0][0]']    \n",
      "                                                                                                  \n",
      " dense (Dense)                  (None, 64)           9536        ['dropout[0][0]']                \n",
      "                                                                                                  \n",
      " layer_normalization_1 (LayerNo  (None, 64)          128         ['dense[0][0]']                  \n",
      " rmalization)                                                                                     \n",
      "                                                                                                  \n",
      " dropout_1 (Dropout)            (None, 64)           0           ['layer_normalization_1[0][0]']  \n",
      "                                                                                                  \n",
      " dense_1 (Dense)                (None, 16)           1040        ['dropout_1[0][0]']              \n",
      "                                                                                                  \n",
      " layer_normalization_2 (LayerNo  (None, 16)          32          ['dense_1[0][0]']                \n",
      " rmalization)                                                                                     \n",
      "                                                                                                  \n",
      " dropout_2 (Dropout)            (None, 16)           0           ['layer_normalization_2[0][0]']  \n",
      "                                                                                                  \n",
      " dense_2 (Dense)                (None, 1)            17          ['dropout_2[0][0]']              \n",
      "                                                                                                  \n",
      "==================================================================================================\n",
      "Total params: 160,201\n",
      "Trainable params: 160,201\n",
      "Non-trainable params: 0\n",
      "__________________________________________________________________________________________________\n"
     ]
    }
   ],
   "source": [
    "model.summary()"
   ]
  },
  {
   "cell_type": "code",
   "execution_count": 21,
   "metadata": {
    "colab": {
     "base_uri": "https://localhost:8080/"
    },
    "executionInfo": {
     "elapsed": 2730476,
     "status": "ok",
     "timestamp": 1645472726919,
     "user": {
      "displayName": "Mehrad Ansari",
      "photoUrl": "https://lh3.googleusercontent.com/a-/AOh14GiZPhg45Nd1_yfNPm8mZjNlT0CXVuPZiMuU4u4NBw=s64",
      "userId": "14408599939652581087"
     },
     "user_tz": 300
    },
    "id": "mVSlO4VizO-N",
    "outputId": "11976941-029a-4bb1-918c-349310ad1e08"
   },
   "outputs": [
    {
     "name": "stdout",
     "output_type": "stream",
     "text": [
      "lr = 1e-04\n",
      "Epoch 1/150\n",
      "923/923 [==============================] - 41s 34ms/step - loss: 1.6824 - auc: 0.5134 - binary_accuracy: 0.5140 - val_loss: 1.4070 - val_auc: 0.6015 - val_binary_accuracy: 0.5621\n",
      "lr = 9.993683e-05\n",
      "Epoch 2/150\n",
      "923/923 [==============================] - 29s 31ms/step - loss: 1.2723 - auc: 0.5233 - binary_accuracy: 0.5197 - val_loss: 1.1084 - val_auc: 0.6405 - val_binary_accuracy: 0.6043\n",
      "lr = 9.974747e-05\n",
      "Epoch 3/150\n",
      "923/923 [==============================] - 28s 31ms/step - loss: 1.0336 - auc: 0.5841 - binary_accuracy: 0.5632 - val_loss: 0.9352 - val_auc: 0.6612 - val_binary_accuracy: 0.6190\n",
      "lr = 9.9432415e-05\n",
      "Epoch 4/150\n",
      "923/923 [==============================] - 29s 31ms/step - loss: 0.9004 - auc: 0.6333 - binary_accuracy: 0.6015 - val_loss: 0.8508 - val_auc: 0.6710 - val_binary_accuracy: 0.6352\n",
      "lr = 9.899245e-05\n",
      "Epoch 5/150\n",
      "923/923 [==============================] - 29s 31ms/step - loss: 0.8253 - auc: 0.6511 - binary_accuracy: 0.6162 - val_loss: 0.7808 - val_auc: 0.6923 - val_binary_accuracy: 0.6444\n",
      "lr = 9.84287e-05\n",
      "Epoch 6/150\n",
      "923/923 [==============================] - 28s 31ms/step - loss: 0.7790 - auc: 0.6575 - binary_accuracy: 0.6193 - val_loss: 0.7385 - val_auc: 0.6995 - val_binary_accuracy: 0.6542\n",
      "lr = 9.774257e-05\n",
      "Epoch 7/150\n",
      "923/923 [==============================] - 29s 31ms/step - loss: 0.7439 - auc: 0.6685 - binary_accuracy: 0.6291 - val_loss: 0.7168 - val_auc: 0.6992 - val_binary_accuracy: 0.6547\n",
      "lr = 9.6935815e-05\n",
      "Epoch 8/150\n",
      "923/923 [==============================] - 28s 31ms/step - loss: 0.7216 - auc: 0.6747 - binary_accuracy: 0.6363 - val_loss: 0.7024 - val_auc: 0.6991 - val_binary_accuracy: 0.6439\n",
      "lr = 9.601046e-05\n",
      "Epoch 9/150\n",
      "923/923 [==============================] - 28s 31ms/step - loss: 0.7035 - auc: 0.6819 - binary_accuracy: 0.6395 - val_loss: 0.6989 - val_auc: 0.7054 - val_binary_accuracy: 0.6358\n",
      "lr = 9.496886e-05\n",
      "Epoch 10/150\n",
      "923/923 [==============================] - 28s 30ms/step - loss: 0.6937 - auc: 0.6813 - binary_accuracy: 0.6386 - val_loss: 0.6750 - val_auc: 0.7087 - val_binary_accuracy: 0.6640\n",
      "lr = 9.381365e-05\n",
      "Epoch 11/150\n",
      "923/923 [==============================] - 29s 31ms/step - loss: 0.6797 - auc: 0.6904 - binary_accuracy: 0.6435 - val_loss: 0.6672 - val_auc: 0.7131 - val_binary_accuracy: 0.6444\n",
      "lr = 9.2547736e-05\n",
      "Epoch 12/150\n",
      "923/923 [==============================] - 28s 31ms/step - loss: 0.6685 - auc: 0.6968 - binary_accuracy: 0.6470 - val_loss: 0.6567 - val_auc: 0.7171 - val_binary_accuracy: 0.6558\n",
      "lr = 9.117433e-05\n",
      "Epoch 13/150\n",
      "923/923 [==============================] - 29s 31ms/step - loss: 0.6637 - auc: 0.6953 - binary_accuracy: 0.6451 - val_loss: 0.6471 - val_auc: 0.7228 - val_binary_accuracy: 0.6504\n",
      "lr = 8.969691e-05\n",
      "Epoch 14/150\n",
      "923/923 [==============================] - 29s 31ms/step - loss: 0.6561 - auc: 0.6987 - binary_accuracy: 0.6477 - val_loss: 0.6459 - val_auc: 0.7164 - val_binary_accuracy: 0.6537\n",
      "lr = 8.81192e-05\n",
      "Epoch 15/150\n",
      "923/923 [==============================] - 29s 31ms/step - loss: 0.6491 - auc: 0.7037 - binary_accuracy: 0.6472 - val_loss: 0.6390 - val_auc: 0.7212 - val_binary_accuracy: 0.6585\n",
      "lr = 8.64452e-05\n",
      "Epoch 16/150\n",
      "923/923 [==============================] - 29s 31ms/step - loss: 0.6422 - auc: 0.7097 - binary_accuracy: 0.6514 - val_loss: 0.6382 - val_auc: 0.7154 - val_binary_accuracy: 0.6596\n",
      "lr = 8.467915e-05\n",
      "Epoch 17/150\n",
      "923/923 [==============================] - 29s 31ms/step - loss: 0.6385 - auc: 0.7110 - binary_accuracy: 0.6552 - val_loss: 0.6374 - val_auc: 0.7208 - val_binary_accuracy: 0.6455\n",
      "lr = 8.282551e-05\n",
      "Epoch 18/150\n",
      "923/923 [==============================] - 29s 31ms/step - loss: 0.6322 - auc: 0.7166 - binary_accuracy: 0.6606 - val_loss: 0.6284 - val_auc: 0.7242 - val_binary_accuracy: 0.6515\n",
      "lr = 8.088897e-05\n",
      "Epoch 19/150\n",
      "923/923 [==============================] - 28s 31ms/step - loss: 0.6317 - auc: 0.7132 - binary_accuracy: 0.6596 - val_loss: 0.6241 - val_auc: 0.7270 - val_binary_accuracy: 0.6612\n",
      "lr = 7.887442e-05\n",
      "Epoch 20/150\n",
      "923/923 [==============================] - 29s 31ms/step - loss: 0.6274 - auc: 0.7181 - binary_accuracy: 0.6617 - val_loss: 0.6282 - val_auc: 0.7213 - val_binary_accuracy: 0.6596\n",
      "lr = 7.678696e-05\n",
      "Epoch 21/150\n",
      "923/923 [==============================] - 29s 31ms/step - loss: 0.6242 - auc: 0.7190 - binary_accuracy: 0.6608 - val_loss: 0.6314 - val_auc: 0.7191 - val_binary_accuracy: 0.6455\n",
      "lr = 7.463188e-05\n",
      "Epoch 22/150\n",
      "923/923 [==============================] - 29s 31ms/step - loss: 0.6215 - auc: 0.7187 - binary_accuracy: 0.6638 - val_loss: 0.6157 - val_auc: 0.7281 - val_binary_accuracy: 0.6612\n",
      "lr = 7.2414616e-05\n",
      "Epoch 23/150\n",
      "923/923 [==============================] - 28s 31ms/step - loss: 0.6159 - auc: 0.7232 - binary_accuracy: 0.6634 - val_loss: 0.6216 - val_auc: 0.7196 - val_binary_accuracy: 0.6531\n",
      "lr = 7.014079e-05\n",
      "Epoch 24/150\n",
      "923/923 [==============================] - 28s 30ms/step - loss: 0.6148 - auc: 0.7238 - binary_accuracy: 0.6653 - val_loss: 0.6121 - val_auc: 0.7255 - val_binary_accuracy: 0.6596\n",
      "lr = 6.7816145e-05\n",
      "Epoch 25/150\n",
      "923/923 [==============================] - 28s 31ms/step - loss: 0.6114 - auc: 0.7270 - binary_accuracy: 0.6682 - val_loss: 0.6234 - val_auc: 0.7202 - val_binary_accuracy: 0.6455\n",
      "lr = 6.544656e-05\n",
      "Epoch 26/150\n",
      "923/923 [==============================] - 28s 30ms/step - loss: 0.6090 - auc: 0.7296 - binary_accuracy: 0.6678 - val_loss: 0.6186 - val_auc: 0.7236 - val_binary_accuracy: 0.6531\n",
      "lr = 6.303803e-05\n",
      "Epoch 27/150\n",
      "923/923 [==============================] - 29s 31ms/step - loss: 0.6059 - auc: 0.7331 - binary_accuracy: 0.6733 - val_loss: 0.6078 - val_auc: 0.7308 - val_binary_accuracy: 0.6661\n",
      "lr = 6.059665e-05\n",
      "Epoch 28/150\n",
      "923/923 [==============================] - 29s 31ms/step - loss: 0.6035 - auc: 0.7346 - binary_accuracy: 0.6717 - val_loss: 0.6067 - val_auc: 0.7330 - val_binary_accuracy: 0.6678\n",
      "lr = 5.81286e-05\n",
      "Epoch 29/150\n",
      "923/923 [==============================] - 28s 30ms/step - loss: 0.6020 - auc: 0.7366 - binary_accuracy: 0.6732 - val_loss: 0.6033 - val_auc: 0.7352 - val_binary_accuracy: 0.6683\n",
      "lr = 5.5640114e-05\n",
      "Epoch 30/150\n",
      "923/923 [==============================] - 28s 30ms/step - loss: 0.6010 - auc: 0.7366 - binary_accuracy: 0.6712 - val_loss: 0.6042 - val_auc: 0.7355 - val_binary_accuracy: 0.6683\n",
      "lr = 5.313748e-05\n",
      "Epoch 31/150\n",
      "923/923 [==============================] - 28s 30ms/step - loss: 0.5970 - auc: 0.7433 - binary_accuracy: 0.6740 - val_loss: 0.6095 - val_auc: 0.7368 - val_binary_accuracy: 0.6629\n",
      "lr = 5.0627044e-05\n",
      "Epoch 32/150\n",
      "923/923 [==============================] - 28s 31ms/step - loss: 0.5956 - auc: 0.7435 - binary_accuracy: 0.6806 - val_loss: 0.6064 - val_auc: 0.7351 - val_binary_accuracy: 0.6602\n",
      "lr = 4.8115147e-05\n",
      "Epoch 33/150\n",
      "923/923 [==============================] - 29s 31ms/step - loss: 0.5930 - auc: 0.7448 - binary_accuracy: 0.6796 - val_loss: 0.6017 - val_auc: 0.7421 - val_binary_accuracy: 0.6705\n",
      "lr = 4.560815e-05\n",
      "Epoch 34/150\n",
      "923/923 [==============================] - 29s 31ms/step - loss: 0.5919 - auc: 0.7458 - binary_accuracy: 0.6818 - val_loss: 0.6052 - val_auc: 0.7314 - val_binary_accuracy: 0.6553\n",
      "lr = 4.3112377e-05\n",
      "Epoch 35/150\n",
      "923/923 [==============================] - 28s 31ms/step - loss: 0.5901 - auc: 0.7494 - binary_accuracy: 0.6825 - val_loss: 0.6036 - val_auc: 0.7365 - val_binary_accuracy: 0.6683\n",
      "lr = 4.0634157e-05\n",
      "Epoch 36/150\n",
      "923/923 [==============================] - 28s 30ms/step - loss: 0.5894 - auc: 0.7499 - binary_accuracy: 0.6819 - val_loss: 0.6009 - val_auc: 0.7373 - val_binary_accuracy: 0.6618\n",
      "lr = 3.8179758e-05\n",
      "Epoch 37/150\n",
      "923/923 [==============================] - 28s 30ms/step - loss: 0.5885 - auc: 0.7517 - binary_accuracy: 0.6843 - val_loss: 0.6003 - val_auc: 0.7394 - val_binary_accuracy: 0.6721\n",
      "lr = 3.5755376e-05\n",
      "Epoch 38/150\n",
      "923/923 [==============================] - 28s 30ms/step - loss: 0.5852 - auc: 0.7549 - binary_accuracy: 0.6879 - val_loss: 0.5978 - val_auc: 0.7447 - val_binary_accuracy: 0.6721\n",
      "lr = 3.3367145e-05\n",
      "Epoch 39/150\n",
      "923/923 [==============================] - 28s 30ms/step - loss: 0.5853 - auc: 0.7539 - binary_accuracy: 0.6881 - val_loss: 0.5982 - val_auc: 0.7399 - val_binary_accuracy: 0.6705\n",
      "lr = 3.1021118e-05\n",
      "Epoch 40/150\n"
     ]
    },
    {
     "name": "stdout",
     "output_type": "stream",
     "text": [
      "923/923 [==============================] - 28s 31ms/step - loss: 0.5810 - auc: 0.7570 - binary_accuracy: 0.6906 - val_loss: 0.5982 - val_auc: 0.7419 - val_binary_accuracy: 0.6710\n",
      "lr = 2.8723221e-05\n",
      "Epoch 41/150\n",
      "923/923 [==============================] - 28s 30ms/step - loss: 0.5798 - auc: 0.7583 - binary_accuracy: 0.6887 - val_loss: 0.6000 - val_auc: 0.7406 - val_binary_accuracy: 0.6672\n",
      "lr = 2.647928e-05\n",
      "Epoch 42/150\n",
      "923/923 [==============================] - 28s 30ms/step - loss: 0.5794 - auc: 0.7593 - binary_accuracy: 0.6931 - val_loss: 0.5994 - val_auc: 0.7414 - val_binary_accuracy: 0.6699\n",
      "lr = 2.4294945e-05\n",
      "Epoch 43/150\n",
      "923/923 [==============================] - 28s 30ms/step - loss: 0.5772 - auc: 0.7618 - binary_accuracy: 0.6929 - val_loss: 0.5961 - val_auc: 0.7418 - val_binary_accuracy: 0.6759\n"
     ]
    }
   ],
   "source": [
    "# model.fit(\n",
    "#     train_data, \n",
    "#     validation_data=val_data, \n",
    "#     callbacks=[tf.keras.callbacks.LambdaCallback(\n",
    "#         on_epoch_begin=lambda epochs,logs: print('lr =',lr_decayed_fn(opt.iterations).numpy())\n",
    "#         )],\n",
    "#     epochs=100)\n",
    "\n",
    "result = model.fit(\n",
    "    train_data, \n",
    "    validation_data=val_data, \n",
    "    callbacks=[tf.keras.callbacks.LambdaCallback(\n",
    "        on_epoch_begin=lambda epochs,logs: print('lr =',lr_decayed_fn(opt.iterations).numpy())\n",
    "        ),\n",
    "          tf.keras.callbacks.EarlyStopping(monitor='val_auc', mode='max', restore_best_weights=True, patience=5)],\n",
    "    epochs=150)\n",
    "\n"
   ]
  },
  {
   "cell_type": "code",
   "execution_count": 23,
   "metadata": {
    "colab": {
     "base_uri": "https://localhost:8080/",
     "height": 282
    },
    "executionInfo": {
     "elapsed": 5361,
     "status": "ok",
     "timestamp": 1645472732278,
     "user": {
      "displayName": "Mehrad Ansari",
      "photoUrl": "https://lh3.googleusercontent.com/a-/AOh14GiZPhg45Nd1_yfNPm8mZjNlT0CXVuPZiMuU4u4NBw=s64",
      "userId": "14408599939652581087"
     },
     "user_tz": 300
    },
    "id": "8p0C2kHV2vrW",
    "outputId": "4dac8973-0337-447a-e684-42d657c1ae41"
   },
   "outputs": [
    {
     "name": "stdout",
     "output_type": "stream",
     "text": [
      "116/116 [==============================] - 2s 13ms/step - loss: 0.5871 - auc: 0.7489 - binary_accuracy: 0.6851\n"
     ]
    },
    {
     "data": {
      "image/png": "[encoded data removed]",
      "text/plain": [
       "<Figure size 432x288 with 1 Axes>"
      ]
     },
     "metadata": {
      "needs_background": "light"
     },
     "output_type": "display_data"
    }
   ],
   "source": [
    "plt.plot(result.history['val_binary_accuracy'])\n",
    "test_result = model.evaluate(test_data)\n",
    "plt.show()"
   ]
  },
  {
   "cell_type": "code",
   "execution_count": 24,
   "metadata": {
    "executionInfo": {
     "elapsed": 4809,
     "status": "ok",
     "timestamp": 1645472737083,
     "user": {
      "displayName": "Mehrad Ansari",
      "photoUrl": "https://lh3.googleusercontent.com/a-/AOh14GiZPhg45Nd1_yfNPm8mZjNlT0CXVuPZiMuU4u4NBw=s64",
      "userId": "14408599939652581087"
     },
     "user_tz": 300
    },
    "id": "rOfgoKtsU1K-"
   },
   "outputs": [],
   "source": [
    "inference_model = build_infer_model(L)\n",
    "\n",
    "inference_model.set_weights(model.get_weights())"
   ]
  },
  {
   "cell_type": "code",
   "execution_count": 25,
   "metadata": {
    "colab": {
     "base_uri": "https://localhost:8080/"
    },
    "executionInfo": {
     "elapsed": 6582,
     "status": "ok",
     "timestamp": 1645472743662,
     "user": {
      "displayName": "Mehrad Ansari",
      "photoUrl": "https://lh3.googleusercontent.com/a-/AOh14GiZPhg45Nd1_yfNPm8mZjNlT0CXVuPZiMuU4u4NBw=s64",
      "userId": "14408599939652581087"
     },
     "user_tz": 300
    },
    "id": "vm_yXNslzRGu",
    "outputId": "78488a97-6cec-4024-e5ed-4d97bf2ac354"
   },
   "outputs": [
    {
     "data": {
      "text/plain": [
       "<tf.Tensor: shape=(1, 1), dtype=float32, numpy=array([[0.97552955]], dtype=float32)>"
      ]
     },
     "execution_count": 25,
     "metadata": {},
     "output_type": "execute_result"
    }
   ],
   "source": [
    "inference_model([np.array([1,1,1,1]).reshape(1,-1), np.array(np.ones(20)/20).reshape(1,-1)])"
   ]
  },
  {
   "cell_type": "code",
   "execution_count": 26,
   "metadata": {},
   "outputs": [],
   "source": [
    "# serialize model to JSON\n",
    "inference_model_json = inference_model.to_json()\n",
    "with open(\"../models/sol-rnn/keras_model/model.json\", \"w\") as json_file:\n",
    "    json_file.write(inference_model_json)\n",
    "# serialize weights to HDF5\n",
    "inference_model.save_weights(\"../models/sol-rnn/keras_model/model_weights.h5\")"
   ]
  },
  {
   "cell_type": "code",
   "execution_count": 27,
   "metadata": {
    "colab": {
     "base_uri": "https://localhost:8080/"
    },
    "executionInfo": {
     "elapsed": 171,
     "status": "ok",
     "timestamp": 1645472743830,
     "user": {
      "displayName": "Mehrad Ansari",
      "photoUrl": "https://lh3.googleusercontent.com/a-/AOh14GiZPhg45Nd1_yfNPm8mZjNlT0CXVuPZiMuU4u4NBw=s64",
      "userId": "14408599939652581087"
     },
     "user_tz": 300
    },
    "id": "aDvdjpMmz7UA",
    "outputId": "bfcad2a9-8e09-4bd5-bf3f-2e3ebbead367"
   },
   "outputs": [
    {
     "name": "stdout",
     "output_type": "stream",
     "text": [
      "WARNING:tensorflow:Compiled the loaded model, but the compiled metrics have yet to be built. `model.compile_metrics` will be empty until you train or evaluate the model.\n"
     ]
    }
   ],
   "source": [
    "tfjs.converters.save_keras_model(inference_model, \"../models/sol-rnn/\")"
   ]
  },
  {
   "cell_type": "markdown",
   "metadata": {
    "id": "bCdM_rbZfmDQ"
   },
   "source": [
    "# Model Card"
   ]
  },
  {
   "cell_type": "code",
   "execution_count": 28,
   "metadata": {
    "colab": {
     "base_uri": "https://localhost:8080/"
    },
    "executionInfo": {
     "elapsed": 3,
     "status": "ok",
     "timestamp": 1645472743830,
     "user": {
      "displayName": "Mehrad Ansari",
      "photoUrl": "https://lh3.googleusercontent.com/a-/AOh14GiZPhg45Nd1_yfNPm8mZjNlT0CXVuPZiMuU4u4NBw=s64",
      "userId": "14408599939652581087"
     },
     "user_tz": 300
    },
    "id": "8x0RLsUSfmdR",
    "outputId": "be4a381d-5059-4465-e374-f2142e50d09e"
   },
   "outputs": [
    {
     "name": "stdout",
     "output_type": "stream",
     "text": [
      "{\n",
      " \"title\": \"Solubility Prediction\",\n",
      " \"details\": \"Recurrent (GRU) neural network for predicting solubility. Developed by Andrew White using data from PROSO II database in TFJS.\",\n",
      " \"use\": \"Peptides or proteins expressed in E. coli that are less than 200 residues long. May provide solubility predictions more broadly applicable.\",\n",
      " \"factors\": \"Solubility was defined in PROSO II as sequence that was transfectable, expressible, secretable, separable, and soluble in E. coli system.\",\n",
      " \"metrics\": \"Test accuracy 0.69. Test AUC 0.75\",\n",
      " \"evaluation\": \"Withheld positive and negative examples\",\n",
      " \"training\": \"18453 positive (length range: 19-198) and negative (length range: 22-198) sequences.\",\n",
      " \"caveats\": \"This data is mostly long sequences and so may not be as applicable to solid-phase synthesized peptides. The model accuracy is low.\",\n",
      " \"ethics\": \"None noted\"\n",
      "}\n"
     ]
    }
   ],
   "source": [
    "model_card = {\n",
    "    'title': 'Solubility Prediction',\n",
    "    'details': 'Recurrent (bi-LSTM) neural network with concatenated amino acid frequencies for predicting solubility. Developed by Andrew White and Mehrad Ansair using data from PROSO II database in TFJS.',\n",
    "    'use': 'Peptides or proteins expressed in E. coli that are less than 200 residues long. May provide solubility predictions more broadly applicable.',\n",
    "    'factors': 'Solubility was defined in PROSO II as sequence that was transfectable, expressible, secretable, separable, and soluble in E. coli system.',\n",
    "    'metrics': f'Test accuracy {test_result[2]:.2f}. Test AUC {test_result[1]:.2f}',\n",
    "    'evaluation': 'Withheld positive and negative examples',\n",
    "    'training': f'{len(pos_data) + len(neg_data)} positive (length range: {np.min(pos_data_lengths)}-{np.max(pos_data_lengths)}) and negative (length range: {np.min(neg_data_lengths)}-{np.max(neg_data_lengths)}) sequences.',\n",
    "    'caveats': 'This data is mostly long sequences and so may not be as applicable to solid-phase synthesized peptides. The model accuracy is low.',\n",
    "    'ethics': 'None noted'\n",
    "}\n",
    "with open('../models/sol-rnn/card.json', 'w') as f:\n",
    "  json.dump(model_card, f)\n",
    "print(json.dumps(model_card, indent=True))"
   ]
  }
 ],
 "metadata": {
  "accelerator": "GPU",
  "colab": {
   "collapsed_sections": [],
   "name": "Sol-RNN.ipynb",
   "provenance": []
  },
  "kernelspec": {
   "display_name": "Python 3",
   "language": "python",
   "name": "serverless"
  },
  "language_info": {
   "codemirror_mode": {
    "name": "ipython",
    "version": 3
   },
   "file_extension": ".py",
   "mimetype": "text/x-python",
   "name": "python",
   "nbconvert_exporter": "python",
   "pygments_lexer": "ipython3",
   "version": "3.8.13"
  }
 },
 "nbformat": 4,
 "nbformat_minor": 1
}
