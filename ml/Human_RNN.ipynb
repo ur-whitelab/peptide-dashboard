{
 "cells": [
  {
   "cell_type": "code",
   "execution_count": 1,
   "metadata": {
    "colab": {
     "base_uri": "https://localhost:8080/"
    },
    "id": "FLdQgeg6ruk5",
    "outputId": "4f8b168b-ce37-4ce9-83f6-ca1fae9454b0"
   },
   "outputs": [
    {
     "name": "stdout",
     "output_type": "stream",
     "text": [
      "Sat Jan 15 17:02:59 2022       \n",
      "+-----------------------------------------------------------------------------+\n",
      "| NVIDIA-SMI 495.46       Driver Version: 460.32.03    CUDA Version: 11.2     |\n",
      "|-------------------------------+----------------------+----------------------+\n",
      "| GPU  Name        Persistence-M| Bus-Id        Disp.A | Volatile Uncorr. ECC |\n",
      "| Fan  Temp  Perf  Pwr:Usage/Cap|         Memory-Usage | GPU-Util  Compute M. |\n",
      "|                               |                      |               MIG M. |\n",
      "|===============================+======================+======================|\n",
      "|   0  Tesla P100-PCIE...  Off  | 00000000:00:04.0 Off |                    0 |\n",
      "| N/A   39C    P0    39W / 250W |      0MiB / 16280MiB |      0%      Default |\n",
      "|                               |                      |                  N/A |\n",
      "+-------------------------------+----------------------+----------------------+\n",
      "                                                                               \n",
      "+-----------------------------------------------------------------------------+\n",
      "| Processes:                                                                  |\n",
      "|  GPU   GI   CI        PID   Type   Process name                  GPU Memory |\n",
      "|        ID   ID                                                   Usage      |\n",
      "|=============================================================================|\n",
      "|  No running processes found                                                 |\n",
      "+-----------------------------------------------------------------------------+\n"
     ]
    }
   ],
   "source": [
    "!pip install -q tensorflowjs\n",
    "!nvidia-smi"
   ]
  },
  {
   "cell_type": "code",
   "execution_count": 1,
   "metadata": {
    "id": "kN5GDHK6riEe"
   },
   "outputs": [],
   "source": [
    "#@title Runtime\n",
    "use_tpu = False #@param\n"
   ]
  },
  {
   "cell_type": "code",
   "execution_count": 2,
   "metadata": {
    "id": "PW7wdIp7py9V"
   },
   "outputs": [],
   "source": [
    "import matplotlib.pyplot as plt\n",
    "import matplotlib as mpl\n",
    "import numpy as np\n",
    "import os\n",
    "import tensorflow as tf\n",
    "import urllib\n",
    "from dataclasses import dataclass\n",
    "import tensorflowjs as tfjs\n",
    "import json\n",
    "np.random.seed(0)"
   ]
  },
  {
   "cell_type": "code",
   "execution_count": 3,
   "metadata": {
    "id": "-az13Rv1p6xr"
   },
   "outputs": [],
   "source": [
    "urllib.request.urlretrieve(\n",
    "    \"https://github.com/ur-whitelab/peptide-dashboard/raw/master/ml/data/human-positive.npz\",\n",
    "    \"positive.npz\",\n",
    ")\n",
    "urllib.request.urlretrieve(\n",
    "    \"https://github.com/ur-whitelab/peptide-dashboard/raw/master/ml/data/human-negative.npz\",\n",
    "    \"negative.npz\",\n",
    ")\n",
    "with np.load(\"positive.npz\") as r:\n",
    "    pos_data = r[list(r.keys())[0]]\n",
    "with np.load(\"negative.npz\") as r:\n",
    "    neg_data = r['seqs']\n",
    "    weights = r['weights']\n",
    "\n",
    "# create labels and stich it all into one\n",
    "# tensor\n",
    "labels = np.concatenate(\n",
    "    (\n",
    "        np.ones((pos_data.shape[0], 1), dtype=pos_data.dtype),\n",
    "        np.zeros((neg_data.shape[0], 1), dtype=pos_data.dtype),\n",
    "    ),\n",
    "    axis=0,\n",
    ")\n",
    "weights = np.concatenate(\n",
    "    (np.ones((pos_data.shape[0]), dtype=pos_data.dtype), \n",
    "     weights)\n",
    ")\n",
    "features = np.concatenate((pos_data, neg_data), axis=0)\n",
    "pos_data_lengths = np.count_nonzero(pos_data, axis=1)\n",
    "neg_data_lengths = np.count_nonzero(neg_data, axis=1)"
   ]
  },
  {
   "cell_type": "code",
   "execution_count": 4,
   "metadata": {
    "colab": {
     "base_uri": "https://localhost:8080/"
    },
    "id": "i1e4uaGsuOmA",
    "outputId": "372fdf48-3b71-494c-81f8-f471f9789211"
   },
   "outputs": [
    {
     "name": "stdout",
     "output_type": "stream",
     "text": [
      "Positive data 3600\n",
      "Negative data 13585\n",
      "Weights [1.         1.         1.         ... 0.02333456 0.02333456 0.02333456]\n"
     ]
    }
   ],
   "source": [
    "print('Positive data', pos_data.shape[0])\n",
    "print('Negative data', neg_data.shape[0])\n",
    "print('Weights', weights)"
   ]
  },
  {
   "cell_type": "code",
   "execution_count": 5,
   "metadata": {
    "id": "4o1kwH0dy_xz"
   },
   "outputs": [],
   "source": [
    "@dataclass\n",
    "class Config:\n",
    "    vocab_size: int\n",
    "    example_number: int\n",
    "    batch_size: int\n",
    "    buffer_size: int\n",
    "    rnn_units: int\n",
    "    hidden_dim: int\n",
    "    embedding_dim: int\n",
    "    reg_strength: float\n",
    "    lr: float\n",
    "    drop_rate: float\n",
    "        \n",
    "config = Config(vocab_size=21, # include gap\n",
    "                example_number=len(labels), \n",
    "                batch_size=16, \n",
    "                buffer_size=10000,\n",
    "                rnn_units=64,\n",
    "                hidden_dim=64,\n",
    "                embedding_dim=32,\n",
    "                reg_strength=0,\n",
    "                lr=1e-3,\n",
    "                drop_rate=0.3\n",
    "               )\n"
   ]
  },
  {
   "cell_type": "code",
   "execution_count": 6,
   "metadata": {
    "id": "pC9ee3SEqxqq"
   },
   "outputs": [],
   "source": [
    "def counts_aa(vec):\n",
    "    counts =  tf.histogram_fixed_width(vec, [0, 20], nbins=21)[1:]\n",
    "    return counts /tf.reduce_sum(counts)\n",
    "\n",
    "def build_model(L):\n",
    "    inputs = tf.keras.Input(shape=(L,))\n",
    "    input_f = tf.keras.Input(shape=(20,))\n",
    "    # make embedding and indicate that 0 should be treated as padding mask\n",
    "    e = tf.keras.layers.Embedding(input_dim=config.vocab_size, \n",
    "                                        output_dim=config.embedding_dim,\n",
    "                                        mask_zero=True)(inputs)\n",
    "\n",
    "    # RNN layer\n",
    "    x = tf.keras.layers.LSTM(config.rnn_units)(e)\n",
    "    x = tf.keras.layers.Concatenate()([x, input_f])\n",
    "    x = tf.keras.layers.LayerNormalization()(x)\n",
    "    x = tf.keras.layers.Dropout(config.drop_rate)(x)\n",
    "    # a dense hidden layer\n",
    "    x = tf.keras.layers.Dense(\n",
    "        config.hidden_dim, \n",
    "        activation='relu', \n",
    "        kernel_regularizer=tf.keras.regularizers.l2(config.reg_strength))(x)\n",
    "    x = tf.keras.layers.LayerNormalization()(x)\n",
    "    x = tf.keras.layers.Dropout(config.drop_rate)(x)\n",
    "    x = tf.keras.layers.Dense(\n",
    "        config.hidden_dim // 4, \n",
    "        activation='relu', \n",
    "        kernel_regularizer=tf.keras.regularizers.l2(config.reg_strength))(x)\n",
    "    x = tf.keras.layers.LayerNormalization()(x)\n",
    "    x = tf.keras.layers.Dropout(config.drop_rate)(x)\n",
    "    # predicting prob, so no activation\n",
    "    yhat = tf.keras.layers.Dense(1)(x)\n",
    "\n",
    "    model = tf.keras.Model(inputs=[inputs, input_f], outputs=yhat, name='human-rnn')\n",
    "    return model\n",
    "\n",
    "def build_infer_model(L):\n",
    "    inputs = tf.keras.Input(shape=(L,))\n",
    "    input_f = tf.keras.Input(shape=(20,))\n",
    "    # make embedding and indicate that 0 should be treated as padding mask\n",
    "    e = tf.keras.layers.Embedding(input_dim=config.vocab_size, \n",
    "                                        output_dim=config.embedding_dim,\n",
    "                                        mask_zero=True)(inputs)\n",
    "\n",
    "\n",
    "    # RNN layer\n",
    "    x = tf.keras.layers.LSTM(config.rnn_units)(e)\n",
    "    x = tf.keras.layers.Concatenate()([x, input_f])\n",
    "    x = tf.keras.layers.LayerNormalization()(x)\n",
    "    # a dense hidden layer\n",
    "    x = tf.keras.layers.Dense(\n",
    "        config.hidden_dim, \n",
    "        activation='relu')(x)\n",
    "    x = tf.keras.layers.LayerNormalization()(x)\n",
    "    x = tf.keras.layers.Dense(\n",
    "        config.hidden_dim // 4, \n",
    "        activation='relu')(x)\n",
    "    x = tf.keras.layers.LayerNormalization()(x)\n",
    "    # predicting prob, so no activation\n",
    "    yhat = tf.keras.layers.Dense(1, activation='sigmoid')(x)\n",
    "\n",
    "    model = tf.keras.Model(inputs=[inputs, input_f], outputs=yhat, name='human-rnn-infer')\n",
    "    return model"
   ]
  },
  {
   "cell_type": "code",
   "execution_count": 7,
   "metadata": {
    "id": "rg4sBeamoCOO"
   },
   "outputs": [],
   "source": [
    "if use_tpu:\n",
    "  tf.keras.backend.clear_session()\n",
    "\n",
    "  resolver = tf.distribute.cluster_resolver.TPUClusterResolver('grpc://' + os.environ['COLAB_TPU_ADDR'])\n",
    "  tf.config.experimental_connect_to_cluster(resolver)\n",
    "\n",
    "  # This is the TPU initialization code that has to be at the beginning.\n",
    "  tf.tpu.experimental.initialize_tpu_system(resolver)\n",
    "  print(\"All devices: \", tf.config.list_logical_devices('TPU'))\n",
    "\n",
    "  strategy = tf.distribute.experimental.TPUStrategy(resolver)\n"
   ]
  },
  {
   "cell_type": "code",
   "execution_count": 13,
   "metadata": {
    "id": "dXB1MlmMqAHT"
   },
   "outputs": [],
   "source": [
    "# we now need to shuffle before creating TF dataset\n",
    "# so that our train/test/val splits are random\n",
    "i = np.arange(len(labels))\n",
    "np.random.shuffle(i)\n",
    "np.random.shuffle(i)\n",
    "np.random.shuffle(i)\n",
    "shuffled_labels = labels[i]\n",
    "shuffled_features = features[i]\n",
    "shuffled_weights = weights[i]\n",
    "# data = tf.data.Dataset.from_tensor_slices((shuffled_features, shuffled_labels, shuffled_weights))\n",
    "data = tf.data.Dataset.from_tensor_slices((shuffled_features, shuffled_labels, shuffled_weights)).map(lambda x,y,z: ((x, counts_aa(x)), y, z))\n",
    "# now split into val, test, train and batch\n",
    "N = len(data)  \n",
    "L = None#features[0].shape[-1]\n",
    "split = int(0.1 * N)\n",
    "test_data = data.take(split).batch(config.batch_size)\n",
    "nontest = data.skip(split)\n",
    "val_data, train_data = nontest.take(split).batch(config.batch_size), \\\n",
    "    nontest.skip(split).shuffle(config.buffer_size).batch(config.batch_size).prefetch(tf.data.experimental.AUTOTUNE)"
   ]
  },
  {
   "cell_type": "code",
   "execution_count": 14,
   "metadata": {
    "id": "W8WI1JiDy9J2"
   },
   "outputs": [],
   "source": [
    "if use_tpu:\n",
    "  with strategy.scope():\n",
    "    model = build_model(L)\n",
    "else:\n",
    "  tf.keras.backend.clear_session()\n",
    "  model = build_model(L)\n",
    "\n",
    "  decay_epochs = 50\n",
    "  decay_steps = N  // config.batch_size * decay_epochs\n",
    "  lr_decayed_fn = tf.keras.optimizers.schedules.CosineDecay(\n",
    "      config.lr, decay_steps, alpha=1e-3)\n",
    "  opt = tf.optimizers.Adam(lr_decayed_fn)\n",
    "  model.compile(\n",
    "      opt,\n",
    "      loss=tf.keras.losses.BinaryCrossentropy(from_logits=True),\n",
    "      steps_per_execution = 60 if use_tpu else None,\n",
    "      metrics=[tf.keras.metrics.AUC(from_logits=True), tf.keras.metrics.BinaryAccuracy(threshold=0)])"
   ]
  },
  {
   "cell_type": "code",
   "execution_count": 15,
   "metadata": {
    "colab": {
     "base_uri": "https://localhost:8080/"
    },
    "id": "_M60Z2MiCmw9",
    "outputId": "b084033d-abb3-4407-fa3a-5d00e2948782"
   },
   "outputs": [
    {
     "name": "stdout",
     "output_type": "stream",
     "text": [
      "Model: \"human-rnn\"\n",
      "__________________________________________________________________________________________________\n",
      " Layer (type)                   Output Shape         Param #     Connected to                     \n",
      "==================================================================================================\n",
      " input_1 (InputLayer)           [(None, None)]       0           []                               \n",
      "                                                                                                  \n",
      " embedding (Embedding)          (None, None, 32)     672         ['input_1[0][0]']                \n",
      "                                                                                                  \n",
      " lstm (LSTM)                    (None, 64)           24832       ['embedding[0][0]']              \n",
      "                                                                                                  \n",
      " input_2 (InputLayer)           [(None, 20)]         0           []                               \n",
      "                                                                                                  \n",
      " concatenate (Concatenate)      (None, 84)           0           ['lstm[0][0]',                   \n",
      "                                                                  'input_2[0][0]']                \n",
      "                                                                                                  \n",
      " layer_normalization (LayerNorm  (None, 84)          168         ['concatenate[0][0]']            \n",
      " alization)                                                                                       \n",
      "                                                                                                  \n",
      " dropout (Dropout)              (None, 84)           0           ['layer_normalization[0][0]']    \n",
      "                                                                                                  \n",
      " dense (Dense)                  (None, 64)           5440        ['dropout[0][0]']                \n",
      "                                                                                                  \n",
      " layer_normalization_1 (LayerNo  (None, 64)          128         ['dense[0][0]']                  \n",
      " rmalization)                                                                                     \n",
      "                                                                                                  \n",
      " dropout_1 (Dropout)            (None, 64)           0           ['layer_normalization_1[0][0]']  \n",
      "                                                                                                  \n",
      " dense_1 (Dense)                (None, 16)           1040        ['dropout_1[0][0]']              \n",
      "                                                                                                  \n",
      " layer_normalization_2 (LayerNo  (None, 16)          32          ['dense_1[0][0]']                \n",
      " rmalization)                                                                                     \n",
      "                                                                                                  \n",
      " dropout_2 (Dropout)            (None, 16)           0           ['layer_normalization_2[0][0]']  \n",
      "                                                                                                  \n",
      " dense_2 (Dense)                (None, 1)            17          ['dropout_2[0][0]']              \n",
      "                                                                                                  \n",
      "==================================================================================================\n",
      "Total params: 32,329\n",
      "Trainable params: 32,329\n",
      "Non-trainable params: 0\n",
      "__________________________________________________________________________________________________\n"
     ]
    }
   ],
   "source": [
    "model.summary()"
   ]
  },
  {
   "cell_type": "code",
   "execution_count": 16,
   "metadata": {
    "colab": {
     "base_uri": "https://localhost:8080/"
    },
    "id": "mVSlO4VizO-N",
    "outputId": "02d8a4e7-8add-4daa-dfd7-48b0467b2ea8"
   },
   "outputs": [
    {
     "name": "stdout",
     "output_type": "stream",
     "text": [
      "lr = 0.001\n",
      "Epoch 1/150\n",
      "860/860 [==============================] - 13s 12ms/step - loss: 0.1548 - auc: 0.9010 - binary_accuracy: 0.8108 - val_loss: 0.1236 - val_auc: 0.9293 - val_binary_accuracy: 0.8143\n",
      "lr = 0.000999368\n",
      "Epoch 2/150\n",
      "860/860 [==============================] - 9s 10ms/step - loss: 0.1292 - auc: 0.9206 - binary_accuracy: 0.8200 - val_loss: 0.1233 - val_auc: 0.9305 - val_binary_accuracy: 0.7875\n",
      "lr = 0.0009974734\n",
      "Epoch 3/150\n",
      "860/860 [==============================] - 9s 10ms/step - loss: 0.1256 - auc: 0.9232 - binary_accuracy: 0.8206 - val_loss: 0.1204 - val_auc: 0.9311 - val_binary_accuracy: 0.8091\n",
      "lr = 0.0009943211\n",
      "Epoch 4/150\n",
      "860/860 [==============================] - 9s 10ms/step - loss: 0.1246 - auc: 0.9241 - binary_accuracy: 0.8201 - val_loss: 0.1229 - val_auc: 0.9272 - val_binary_accuracy: 0.7986\n",
      "lr = 0.000989919\n",
      "Epoch 5/150\n",
      "860/860 [==============================] - 9s 10ms/step - loss: 0.1229 - auc: 0.9264 - binary_accuracy: 0.8196 - val_loss: 0.1230 - val_auc: 0.9299 - val_binary_accuracy: 0.7899\n",
      "lr = 0.0009842783\n",
      "Epoch 6/150\n",
      "860/860 [==============================] - 9s 10ms/step - loss: 0.1219 - auc: 0.9276 - binary_accuracy: 0.8211 - val_loss: 0.1233 - val_auc: 0.9307 - val_binary_accuracy: 0.7916\n",
      "lr = 0.0009774131\n",
      "Epoch 7/150\n",
      "860/860 [==============================] - 9s 10ms/step - loss: 0.1217 - auc: 0.9283 - binary_accuracy: 0.8220 - val_loss: 0.1252 - val_auc: 0.9301 - val_binary_accuracy: 0.7852\n",
      "lr = 0.0009693412\n",
      "Epoch 8/150\n",
      "860/860 [==============================] - 9s 10ms/step - loss: 0.1199 - auc: 0.9286 - binary_accuracy: 0.8246 - val_loss: 0.1218 - val_auc: 0.9317 - val_binary_accuracy: 0.8085\n",
      "lr = 0.0009600826\n",
      "Epoch 9/150\n",
      "860/860 [==============================] - 9s 10ms/step - loss: 0.1203 - auc: 0.9286 - binary_accuracy: 0.8214 - val_loss: 0.1215 - val_auc: 0.9295 - val_binary_accuracy: 0.8184\n",
      "lr = 0.00094966096\n",
      "Epoch 10/150\n",
      "860/860 [==============================] - 9s 10ms/step - loss: 0.1187 - auc: 0.9315 - binary_accuracy: 0.8276 - val_loss: 0.1206 - val_auc: 0.9292 - val_binary_accuracy: 0.8149\n",
      "lr = 0.00093810254\n",
      "Epoch 11/150\n",
      "860/860 [==============================] - 9s 10ms/step - loss: 0.1189 - auc: 0.9313 - binary_accuracy: 0.8238 - val_loss: 0.1218 - val_auc: 0.9302 - val_binary_accuracy: 0.8388\n",
      "lr = 0.0009254367\n",
      "Epoch 12/150\n",
      "860/860 [==============================] - 9s 10ms/step - loss: 0.1181 - auc: 0.9316 - binary_accuracy: 0.8288 - val_loss: 0.1212 - val_auc: 0.9306 - val_binary_accuracy: 0.8038\n",
      "lr = 0.00091169536\n",
      "Epoch 13/150\n",
      "860/860 [==============================] - 8s 10ms/step - loss: 0.1178 - auc: 0.9320 - binary_accuracy: 0.8245 - val_loss: 0.1220 - val_auc: 0.9276 - val_binary_accuracy: 0.8178\n"
     ]
    }
   ],
   "source": [
    "result = model.fit(\n",
    "    train_data, \n",
    "    validation_data=val_data, \n",
    "    callbacks=[tf.keras.callbacks.LambdaCallback(\n",
    "        on_epoch_begin=lambda epochs,logs: print('lr =',lr_decayed_fn(opt.iterations).numpy())\n",
    "        ),\n",
    "        tf.keras.callbacks.EarlyStopping(monitor='val_auc', mode='max', restore_best_weights=True, patience=5)\n",
    "        ],\n",
    "    epochs=150)"
   ]
  },
  {
   "cell_type": "code",
   "execution_count": 17,
   "metadata": {
    "colab": {
     "base_uri": "https://localhost:8080/",
     "height": 284
    },
    "id": "8p0C2kHV2vrW",
    "outputId": "c23a31fc-b087-44c3-8ec1-cea109fb64e4"
   },
   "outputs": [
    {
     "name": "stdout",
     "output_type": "stream",
     "text": [
      "108/108 [==============================] - 1s 4ms/step - loss: 0.1181 - auc: 0.9332 - binary_accuracy: 0.8201\n"
     ]
    },
    {
     "data": {
      "image/png": "[encoded data removed]",
      "text/plain": [
       "<Figure size 432x288 with 1 Axes>"
      ]
     },
     "metadata": {
      "needs_background": "light"
     },
     "output_type": "display_data"
    }
   ],
   "source": [
    "plt.plot(result.history['val_binary_accuracy'])\n",
    "test_result = model.evaluate(test_data)\n",
    "plt.show()"
   ]
  },
  {
   "cell_type": "code",
   "execution_count": 18,
   "metadata": {
    "id": "rOfgoKtsU1K-"
   },
   "outputs": [],
   "source": [
    "inference_model = build_infer_model(L)\n",
    "\n",
    "inference_model.set_weights(model.get_weights())"
   ]
  },
  {
   "cell_type": "code",
   "execution_count": 19,
   "metadata": {
    "colab": {
     "base_uri": "https://localhost:8080/"
    },
    "id": "vm_yXNslzRGu",
    "outputId": "f4ae30aa-5d8a-4125-a03d-eca4ca835693"
   },
   "outputs": [
    {
     "data": {
      "text/plain": [
       "<tf.Tensor: shape=(1, 1), dtype=float32, numpy=array([[0.4975852]], dtype=float32)>"
      ]
     },
     "execution_count": 19,
     "metadata": {},
     "output_type": "execute_result"
    }
   ],
   "source": [
    "inference_model([np.array([1,1,1,1]).reshape(1,-1), np.array(np.ones(20)/20).reshape(1,-1)])"
   ]
  },
  {
   "cell_type": "code",
   "execution_count": 20,
   "metadata": {},
   "outputs": [],
   "source": [
    "# serialize model to JSON\n",
    "inference_model_json = inference_model.to_json()\n",
    "with open(\"../models/human-rnn/keras_model/model.json\", \"w\") as json_file:\n",
    "    json_file.write(inference_model_json)\n",
    "# serialize weights to HDF5\n",
    "inference_model.save_weights(\"../models/human-rnn/keras_model/model_weights.h5\")"
   ]
  },
  {
   "cell_type": "code",
   "execution_count": 21,
   "metadata": {
    "colab": {
     "base_uri": "https://localhost:8080/"
    },
    "id": "aDvdjpMmz7UA",
    "outputId": "ad7be60e-9f20-4d97-d55d-9a01270ad967"
   },
   "outputs": [
    {
     "name": "stdout",
     "output_type": "stream",
     "text": [
      "WARNING:tensorflow:Compiled the loaded model, but the compiled metrics have yet to be built. `model.compile_metrics` will be empty until you train or evaluate the model.\n"
     ]
    }
   ],
   "source": [
    "tfjs.converters.save_keras_model(inference_model, \"../models/human-rnn/\")"
   ]
  },
  {
   "cell_type": "markdown",
   "metadata": {
    "id": "bCdM_rbZfmDQ"
   },
   "source": [
    "# Model Card"
   ]
  },
  {
   "cell_type": "code",
   "execution_count": 23,
   "metadata": {
    "colab": {
     "base_uri": "https://localhost:8080/"
    },
    "id": "8x0RLsUSfmdR",
    "outputId": "b39b6852-79db-41cb-a70e-f2151c54fd17"
   },
   "outputs": [
    {
     "name": "stdout",
     "output_type": "stream",
     "text": [
      "{\n",
      " \"title\": \"Nonfouling Prediction\",\n",
      " \"details\": \"Recurrent (LSTM) neural network for predicting resistance to non-specific interactions (nonfouling). Developed by Andrew White using data from Barrett 2018. Negative examples are insoluble peptides, hemolytic peptides, and scrambled positives. Sample weights were used to remove negative example dataset sizes\",\n",
      " \"use\": \"Short peptides between 2 and 20 residues\",\n",
      " \"factors\": \"The dataset was gathered based on mechanism proposed in White 2012.\",\n",
      " \"metrics\": \"Test accuracy 0.82. Test AUC 0.93\",\n",
      " \"evaluation\": \"Withheld positive and negative examples\",\n",
      " \"training\": \"17185 positive (length range: 5-11) and negative (length range: 5-198) sequences\",\n",
      " \"caveats\": \"This data is mostly short sequences. The mechanism is indirect. The negative examples have insoluble peptides overrepresented so that the accuracy may be inflated if only comparing soluble peptides.\",\n",
      " \"ethics\": \"None noted\"\n",
      "}\n"
     ]
    }
   ],
   "source": [
    "model_card = {\n",
    "    'title': 'Nonfouling Prediction',\n",
    "    'details': 'Recurrent (LSTM) neural network for predicting resistance to non-specific interactions (nonfouling). Developed by Andrew White using data from Barrett 2018. '\n",
    "    'Negative examples are insoluble peptides, hemolytic peptides, and scrambled positives. Sample weights were used to remove negative example dataset sizes',\n",
    "    'use': 'Short peptides between 2 and 20 residues',\n",
    "    'factors': 'The dataset was gathered based on mechanism proposed in White 2012.',\n",
    "    'metrics': f'Test accuracy {test_result[2]:.2f}. Test AUC {test_result[1]:.2f}',\n",
    "    'evaluation': 'Withheld positive and negative examples',\n",
    "    'training': f'{len(pos_data) + len(neg_data)} positive (length range: {np.min(pos_data_lengths)}-{np.max(pos_data_lengths)}) and negative (length range: {np.min(neg_data_lengths)}-{np.max(neg_data_lengths)}) sequences',\n",
    "    'caveats': 'This data is mostly short sequences. The mechanism is indirect. '\n",
    "    'The negative examples have insoluble peptides overrepresented so that the accuracy may be inflated if only comparing soluble peptides.',\n",
    "    'ethics': 'None noted'\n",
    "}\n",
    "with open('../models/human-rnn/card.json', 'w') as f:\n",
    "  json.dump(model_card, f)\n",
    "print(json.dumps(model_card, indent=True))"
   ]
  }
 ],
 "metadata": {
  "accelerator": "GPU",
  "colab": {
   "collapsed_sections": [],
   "name": "Human-RNN",
   "provenance": []
  },
  "kernelspec": {
   "display_name": "Python 3",
   "language": "python",
   "name": "serverless"
  },
  "language_info": {
   "codemirror_mode": {
    "name": "ipython",
    "version": 3
   },
   "file_extension": ".py",
   "mimetype": "text/x-python",
   "name": "python",
   "nbconvert_exporter": "python",
   "pygments_lexer": "ipython3",
   "version": "3.8.13"
  }
 },
 "nbformat": 4,
 "nbformat_minor": 1
}
