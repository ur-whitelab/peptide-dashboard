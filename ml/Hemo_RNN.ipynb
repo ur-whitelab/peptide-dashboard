{
 "cells": [
  {
   "cell_type": "code",
   "execution_count": 1,
   "metadata": {
    "colab": {
     "base_uri": "https://localhost:8080/"
    },
    "id": "5L_2_sE_Xxqc",
    "outputId": "d35427f6-70a5-41ef-cda5-c3ea33d86097"
   },
   "outputs": [],
   "source": [
    "!pip install -q tensorflowjs\n",
    "!nvidia-smi"
   ]
  },
  {
   "cell_type": "code",
   "execution_count": 1,
   "metadata": {
    "id": "QUFbh0M0X2lt"
   },
   "outputs": [],
   "source": [
    "#@title Runtime\n",
    "use_tpu = False #@param"
   ]
  },
  {
   "cell_type": "code",
   "execution_count": 2,
   "metadata": {
    "id": "_NJFiRl_X4ho"
   },
   "outputs": [],
   "source": [
    "import matplotlib.pyplot as plt\n",
    "import matplotlib as mpl\n",
    "import numpy as np\n",
    "import os\n",
    "import tensorflow as tf\n",
    "import urllib\n",
    "from dataclasses import dataclass\n",
    "import tensorflowjs as tfjs\n",
    "import json\n",
    "np.random.seed(0)"
   ]
  },
  {
   "cell_type": "code",
   "execution_count": 3,
   "metadata": {},
   "outputs": [
    {
     "name": "stdout",
     "output_type": "stream",
     "text": [
      "Num GPUs Available:  2\n"
     ]
    }
   ],
   "source": [
    "print(\"Num GPUs Available: \", len(tf.config.list_physical_devices('GPU')))"
   ]
  },
  {
   "cell_type": "code",
   "execution_count": 12,
   "metadata": {
    "id": "3IoyrbXKX6S-"
   },
   "outputs": [],
   "source": [
    "urllib.request.urlretrieve(\n",
    "    \"https://github.com/ur-whitelab/peptide-dashboard/raw/master/ml/data/hemo-positive.npz\",\n",
    "    \"positive.npz\",\n",
    ")\n",
    "urllib.request.urlretrieve(\n",
    "    \"https://github.com/ur-whitelab/peptide-dashboard/raw/master/ml/data/hemo-negative.npz\",\n",
    "    \"negative.npz\",\n",
    ")\n",
    "with np.load(\"positive.npz\") as r:\n",
    "    pos_data = r[list(r.keys())[0]]\n",
    "with np.load(\"negative.npz\") as r:\n",
    "    neg_data = r[list(r.keys())[0]]\n",
    "\n",
    "# create labels and stich it all into one\n",
    "# tensor\n",
    "labels = np.concatenate(\n",
    "    (\n",
    "        np.ones((pos_data.shape[0], 1), dtype=pos_data.dtype),\n",
    "        np.zeros((neg_data.shape[0], 1), dtype=pos_data.dtype),\n",
    "    ),\n",
    "    axis=0,\n",
    ")\n",
    "\n",
    "features = np.concatenate((pos_data, neg_data), axis=0)\n",
    "pos_data_lengths = np.count_nonzero(pos_data, axis=1)\n",
    "neg_data_lengths = np.count_nonzero(neg_data, axis=1)"
   ]
  },
  {
   "cell_type": "code",
   "execution_count": 6,
   "metadata": {
    "colab": {
     "base_uri": "https://localhost:8080/"
    },
    "id": "BiMPRhOOX-QL",
    "outputId": "afd94710-34b4-4bf3-cfec-9ebaf84804ae"
   },
   "outputs": [
    {
     "name": "stdout",
     "output_type": "stream",
     "text": [
      "Positive data 1826\n",
      "Negative data 7490\n"
     ]
    }
   ],
   "source": [
    "print('Positive data', pos_data.shape[0])\n",
    "print('Negative data', neg_data.shape[0])"
   ]
  },
  {
   "cell_type": "code",
   "execution_count": 8,
   "metadata": {
    "id": "-6_jmhUcX_zi"
   },
   "outputs": [],
   "source": [
    "@dataclass\n",
    "class Config:\n",
    "    vocab_size: int\n",
    "    example_number: int\n",
    "    batch_size: int\n",
    "    buffer_size: int\n",
    "    rnn_units: int\n",
    "    hidden_dim: int\n",
    "    embedding_dim: int\n",
    "    reg_strength: float\n",
    "    lr: float\n",
    "    drop_rate: float\n",
    "        \n",
    "config = Config(vocab_size=21, # include gap\n",
    "                example_number=len(labels), \n",
    "                batch_size=16, \n",
    "                buffer_size=10000,\n",
    "                rnn_units=64,\n",
    "                hidden_dim=64,\n",
    "                embedding_dim=32,\n",
    "                reg_strength=0,\n",
    "                lr=1e-3,\n",
    "                drop_rate=0.1\n",
    "               )"
   ]
  },
  {
   "cell_type": "code",
   "execution_count": 31,
   "metadata": {
    "id": "WbBov2l_YKbs"
   },
   "outputs": [],
   "source": [
    "def counts_aa(vec):\n",
    "    counts =  tf.histogram_fixed_width(vec, [0, 20], nbins=21)[1:]\n",
    "    return counts /tf.reduce_sum(counts)\n",
    "\n",
    "def build_model(L):\n",
    "    inputs = tf.keras.Input(shape=(L,))\n",
    "    input_f = tf.keras.Input(shape=(20,))\n",
    "    # make embedding and indicate that 0 should be treated as padding mask\n",
    "    e = tf.keras.layers.Embedding(input_dim=config.vocab_size, \n",
    "                                        output_dim=config.embedding_dim,\n",
    "                                        mask_zero=True)(inputs)\n",
    "\n",
    "    # RNN layer\n",
    "    x = tf.keras.layers.Bidirectional(tf.keras.layers.LSTM(config.rnn_units, return_sequences=True))(e)\n",
    "    x = tf.keras.layers.Bidirectional(tf.keras.layers.LSTM(config.rnn_units))(x)\n",
    "    x = tf.keras.layers.Concatenate()([x, input_f])\n",
    "    x = tf.keras.layers.LayerNormalization()(x)\n",
    "    x = tf.keras.layers.Dropout(config.drop_rate)(x)\n",
    "    # a dense hidden layer\n",
    "    x = tf.keras.layers.Dense(\n",
    "        config.hidden_dim, \n",
    "        activation='relu', \n",
    "        kernel_regularizer=tf.keras.regularizers.l2(config.reg_strength))(x)\n",
    "    x = tf.keras.layers.LayerNormalization()(x)\n",
    "    x = tf.keras.layers.Dropout(config.drop_rate)(x)\n",
    "    x = tf.keras.layers.Dense(\n",
    "        config.hidden_dim // 4, \n",
    "        activation='relu', \n",
    "        kernel_regularizer=tf.keras.regularizers.l2(config.reg_strength))(x)\n",
    "    x = tf.keras.layers.LayerNormalization()(x)\n",
    "    x = tf.keras.layers.Dropout(config.drop_rate)(x)\n",
    "    # predicting prob, so no activation\n",
    "    yhat = tf.keras.layers.Dense(1)(x)\n",
    "\n",
    "    model = tf.keras.Model(inputs=[inputs, input_f], outputs=yhat, name='hemo-rnn')\n",
    "    return model\n",
    "\n",
    "def build_infer_model(L):\n",
    "    inputs = tf.keras.Input(shape=(L,))\n",
    "    input_f = tf.keras.Input(shape=(20,))\n",
    "    # make embedding and indicate that 0 should be treated as padding mask\n",
    "    e = tf.keras.layers.Embedding(input_dim=config.vocab_size, \n",
    "                                        output_dim=config.embedding_dim,\n",
    "                                        mask_zero=True)(inputs)\n",
    "    # RNN layer\n",
    "    x = tf.keras.layers.Bidirectional(tf.keras.layers.LSTM(config.rnn_units, return_sequences=True))(e)\n",
    "    x = tf.keras.layers.Bidirectional(tf.keras.layers.LSTM(config.rnn_units))(x)\n",
    "    x = tf.keras.layers.Concatenate()([x, input_f])\n",
    "    x = tf.keras.layers.LayerNormalization()(x)\n",
    "    # a dense hidden layer\n",
    "    x = tf.keras.layers.Dense(\n",
    "        config.hidden_dim, \n",
    "        activation='relu')(x)\n",
    "    x = tf.keras.layers.LayerNormalization()(x)\n",
    "    x = tf.keras.layers.Dense(\n",
    "        config.hidden_dim // 4, \n",
    "        activation='relu')(x)\n",
    "    x = tf.keras.layers.LayerNormalization()(x)\n",
    "    # predicting prob, so no activation\n",
    "    yhat = tf.keras.layers.Dense(1, activation='sigmoid')(x)\n",
    "\n",
    "    model = tf.keras.Model(inputs=[inputs, input_f], outputs=yhat, name='hemo-rnn-infer')\n",
    "    return model"
   ]
  },
  {
   "cell_type": "code",
   "execution_count": 25,
   "metadata": {
    "id": "9hl9iUCsY6WT"
   },
   "outputs": [],
   "source": [
    "if use_tpu:\n",
    "  tf.keras.backend.clear_session()\n",
    "\n",
    "  resolver = tf.distribute.cluster_resolver.TPUClusterResolver('grpc://' + os.environ['COLAB_TPU_ADDR'])\n",
    "  tf.config.experimental_connect_to_cluster(resolver)\n",
    "\n",
    "  # This is the TPU initialization code that has to be at the beginning.\n",
    "  tf.tpu.experimental.initialize_tpu_system(resolver)\n",
    "  print(\"All devices: \", tf.config.list_logical_devices('TPU'))\n",
    "\n",
    "  strategy = tf.distribute.experimental.TPUStrategy(resolver)"
   ]
  },
  {
   "cell_type": "code",
   "execution_count": 26,
   "metadata": {
    "id": "9irGNmx_Y88h"
   },
   "outputs": [],
   "source": [
    "# we now need to shuffle before creating TF dataset\n",
    "# so that our train/test/val splits are random\n",
    "i = np.arange(len(labels))\n",
    "np.random.shuffle(i)\n",
    "np.random.shuffle(i)\n",
    "np.random.shuffle(i)\n",
    "shuffled_labels = labels[i]\n",
    "shuffled_features = features[i]\n",
    "data = tf.data.Dataset.from_tensor_slices((shuffled_features, shuffled_labels)).map(lambda x,y: ((x, counts_aa(x)), y))\n",
    "# data = data.shuffle(config.buffer_size)\n",
    "\n",
    "# now split into val, test, train and batch\n",
    "N = len(data)  \n",
    "L = None#features[0].shape[-1]\n",
    "split = int(0.1 * N)\n",
    "test_data = data.take(split).batch(config.batch_size)\n",
    "nontest = data.skip(split)\n",
    "val_data, train_data = nontest.take(split).batch(config.batch_size), \\\n",
    "    nontest.skip(split).shuffle(config.buffer_size).batch(config.batch_size).prefetch(tf.data.experimental.AUTOTUNE)"
   ]
  },
  {
   "cell_type": "code",
   "execution_count": 27,
   "metadata": {
    "id": "om1B4J2aZHyi"
   },
   "outputs": [],
   "source": [
    "tf.keras.backend.clear_session()\n",
    "if use_tpu:\n",
    "  with strategy.scope():\n",
    "    model = build_model(L)\n",
    "else:\n",
    "  model = build_model(L)\n",
    "#   L = 190\n",
    "#   model = build_CNN_model(L, reg=0, add_dropout=True)\n",
    "  decay_epochs = 50\n",
    "  decay_steps = N  // config.batch_size * decay_epochs\n",
    "  lr_decayed_fn = tf.keras.optimizers.schedules.CosineDecay(\n",
    "      config.lr, decay_steps, alpha=1e-3)\n",
    "  opt = tf.optimizers.Adam(lr_decayed_fn)\n",
    "  model.compile(\n",
    "      opt,\n",
    "      loss=tf.keras.losses.BinaryCrossentropy(from_logits=True),\n",
    "      steps_per_execution = 60 if use_tpu else None,\n",
    "      metrics=[tf.keras.metrics.AUC(from_logits=True), tf.keras.metrics.BinaryAccuracy(threshold=0)])"
   ]
  },
  {
   "cell_type": "code",
   "execution_count": 28,
   "metadata": {
    "colab": {
     "base_uri": "https://localhost:8080/"
    },
    "id": "jfNwOavjZP2o",
    "outputId": "8f0debcb-8bae-4ae7-bf7c-a04e20e97ab5"
   },
   "outputs": [
    {
     "name": "stdout",
     "output_type": "stream",
     "text": [
      "Model: \"sol-rnn\"\n",
      "__________________________________________________________________________________________________\n",
      " Layer (type)                   Output Shape         Param #     Connected to                     \n",
      "==================================================================================================\n",
      " input_1 (InputLayer)           [(None, None)]       0           []                               \n",
      "                                                                                                  \n",
      " embedding (Embedding)          (None, None, 32)     672         ['input_1[0][0]']                \n",
      "                                                                                                  \n",
      " bidirectional (Bidirectional)  (None, None, 128)    49664       ['embedding[0][0]']              \n",
      "                                                                                                  \n",
      " bidirectional_1 (Bidirectional  (None, 128)         98816       ['bidirectional[0][0]']          \n",
      " )                                                                                                \n",
      "                                                                                                  \n",
      " input_2 (InputLayer)           [(None, 20)]         0           []                               \n",
      "                                                                                                  \n",
      " concatenate (Concatenate)      (None, 148)          0           ['bidirectional_1[0][0]',        \n",
      "                                                                  'input_2[0][0]']                \n",
      "                                                                                                  \n",
      " layer_normalization (LayerNorm  (None, 148)         296         ['concatenate[0][0]']            \n",
      " alization)                                                                                       \n",
      "                                                                                                  \n",
      " dropout (Dropout)              (None, 148)          0           ['layer_normalization[0][0]']    \n",
      "                                                                                                  \n",
      " dense (Dense)                  (None, 64)           9536        ['dropout[0][0]']                \n",
      "                                                                                                  \n",
      " layer_normalization_1 (LayerNo  (None, 64)          128         ['dense[0][0]']                  \n",
      " rmalization)                                                                                     \n",
      "                                                                                                  \n",
      " dropout_1 (Dropout)            (None, 64)           0           ['layer_normalization_1[0][0]']  \n",
      "                                                                                                  \n",
      " dense_1 (Dense)                (None, 16)           1040        ['dropout_1[0][0]']              \n",
      "                                                                                                  \n",
      " layer_normalization_2 (LayerNo  (None, 16)          32          ['dense_1[0][0]']                \n",
      " rmalization)                                                                                     \n",
      "                                                                                                  \n",
      " dropout_2 (Dropout)            (None, 16)           0           ['layer_normalization_2[0][0]']  \n",
      "                                                                                                  \n",
      " dense_2 (Dense)                (None, 1)            17          ['dropout_2[0][0]']              \n",
      "                                                                                                  \n",
      "==================================================================================================\n",
      "Total params: 160,201\n",
      "Trainable params: 160,201\n",
      "Non-trainable params: 0\n",
      "__________________________________________________________________________________________________\n"
     ]
    }
   ],
   "source": [
    "model.summary()"
   ]
  },
  {
   "cell_type": "code",
   "execution_count": 29,
   "metadata": {
    "colab": {
     "base_uri": "https://localhost:8080/"
    },
    "id": "NarTpi0TZRSz",
    "outputId": "ab7cb641-60e0-4de7-fbd1-ba7c60bfc1ee"
   },
   "outputs": [
    {
     "name": "stdout",
     "output_type": "stream",
     "text": [
      "lr = 0.001\n",
      "Epoch 1/150\n",
      "466/466 [==============================] - 19s 21ms/step - loss: 0.4940 - auc: 0.5914 - binary_accuracy: 0.7996 - val_loss: 0.4525 - val_auc: 0.6740 - val_binary_accuracy: 0.8174\n",
      "lr = 0.000999368\n",
      "Epoch 2/150\n",
      "466/466 [==============================] - 7s 15ms/step - loss: 0.4681 - auc: 0.6751 - binary_accuracy: 0.8017 - val_loss: 0.4440 - val_auc: 0.7098 - val_binary_accuracy: 0.8174\n",
      "lr = 0.0009974737\n",
      "Epoch 3/150\n",
      "466/466 [==============================] - 8s 16ms/step - loss: 0.4569 - auc: 0.7046 - binary_accuracy: 0.7981 - val_loss: 0.4340 - val_auc: 0.7193 - val_binary_accuracy: 0.8174\n",
      "lr = 0.0009943218\n",
      "Epoch 4/150\n",
      "466/466 [==============================] - 8s 16ms/step - loss: 0.4407 - auc: 0.7354 - binary_accuracy: 0.8031 - val_loss: 0.4256 - val_auc: 0.7302 - val_binary_accuracy: 0.8185\n",
      "lr = 0.0009899203\n",
      "Epoch 5/150\n",
      "466/466 [==============================] - 8s 16ms/step - loss: 0.4338 - auc: 0.7494 - binary_accuracy: 0.8027 - val_loss: 0.4236 - val_auc: 0.7418 - val_binary_accuracy: 0.8153\n",
      "lr = 0.0009842805\n",
      "Epoch 6/150\n",
      "466/466 [==============================] - 8s 16ms/step - loss: 0.4269 - auc: 0.7600 - binary_accuracy: 0.8048 - val_loss: 0.4374 - val_auc: 0.7267 - val_binary_accuracy: 0.8174\n",
      "lr = 0.0009774164\n",
      "Epoch 7/150\n",
      "466/466 [==============================] - 8s 16ms/step - loss: 0.4189 - auc: 0.7744 - binary_accuracy: 0.7996 - val_loss: 0.4242 - val_auc: 0.7335 - val_binary_accuracy: 0.8174\n",
      "lr = 0.00096934556\n",
      "Epoch 8/150\n",
      "466/466 [==============================] - 7s 16ms/step - loss: 0.4102 - auc: 0.7873 - binary_accuracy: 0.8057 - val_loss: 0.4098 - val_auc: 0.7661 - val_binary_accuracy: 0.8163\n",
      "lr = 0.0009600883\n",
      "Epoch 9/150\n",
      "466/466 [==============================] - 8s 16ms/step - loss: 0.4036 - auc: 0.7969 - binary_accuracy: 0.8141 - val_loss: 0.4263 - val_auc: 0.7590 - val_binary_accuracy: 0.8088\n",
      "lr = 0.00094966806\n",
      "Epoch 10/150\n",
      "466/466 [==============================] - 7s 15ms/step - loss: 0.3992 - auc: 0.8025 - binary_accuracy: 0.8178 - val_loss: 0.4188 - val_auc: 0.7793 - val_binary_accuracy: 0.8099\n",
      "lr = 0.0009381113\n",
      "Epoch 11/150\n",
      "466/466 [==============================] - 8s 16ms/step - loss: 0.3935 - auc: 0.8097 - binary_accuracy: 0.8193 - val_loss: 0.4089 - val_auc: 0.7749 - val_binary_accuracy: 0.8281\n",
      "lr = 0.00092544715\n",
      "Epoch 12/150\n",
      "466/466 [==============================] - 8s 16ms/step - loss: 0.3857 - auc: 0.8200 - binary_accuracy: 0.8193 - val_loss: 0.4246 - val_auc: 0.7579 - val_binary_accuracy: 0.8099\n",
      "lr = 0.00091170776\n",
      "Epoch 13/150\n",
      "466/466 [==============================] - 8s 16ms/step - loss: 0.3810 - auc: 0.8256 - binary_accuracy: 0.8264 - val_loss: 0.4136 - val_auc: 0.7575 - val_binary_accuracy: 0.8324\n",
      "lr = 0.0008969277\n",
      "Epoch 14/150\n",
      "466/466 [==============================] - 8s 16ms/step - loss: 0.3740 - auc: 0.8334 - binary_accuracy: 0.8292 - val_loss: 0.4171 - val_auc: 0.7657 - val_binary_accuracy: 0.8238\n",
      "lr = 0.0008811446\n",
      "Epoch 15/150\n",
      "466/466 [==============================] - 8s 16ms/step - loss: 0.3698 - auc: 0.8377 - binary_accuracy: 0.8302 - val_loss: 0.4144 - val_auc: 0.7739 - val_binary_accuracy: 0.8324\n",
      "lr = 0.00086439826\n",
      "Epoch 16/150\n",
      "466/466 [==============================] - 8s 17ms/step - loss: 0.3611 - auc: 0.8480 - binary_accuracy: 0.8338 - val_loss: 0.4201 - val_auc: 0.7760 - val_binary_accuracy: 0.8217\n",
      "lr = 0.00084673124\n",
      "Epoch 17/150\n",
      "466/466 [==============================] - 8s 17ms/step - loss: 0.3463 - auc: 0.8617 - binary_accuracy: 0.8408 - val_loss: 0.4201 - val_auc: 0.7751 - val_binary_accuracy: 0.8195\n",
      "lr = 0.0008281879\n",
      "Epoch 18/150\n",
      "466/466 [==============================] - 8s 17ms/step - loss: 0.3461 - auc: 0.8627 - binary_accuracy: 0.8428 - val_loss: 0.4233 - val_auc: 0.7866 - val_binary_accuracy: 0.8174\n",
      "lr = 0.00080881553\n",
      "Epoch 19/150\n",
      "466/466 [==============================] - 8s 17ms/step - loss: 0.3355 - auc: 0.8736 - binary_accuracy: 0.8445 - val_loss: 0.4051 - val_auc: 0.7952 - val_binary_accuracy: 0.8335\n",
      "lr = 0.0007886629\n",
      "Epoch 20/150\n",
      "466/466 [==============================] - 8s 17ms/step - loss: 0.3268 - auc: 0.8800 - binary_accuracy: 0.8492 - val_loss: 0.4354 - val_auc: 0.7837 - val_binary_accuracy: 0.8077\n",
      "lr = 0.00076778117\n",
      "Epoch 21/150\n",
      "466/466 [==============================] - 8s 17ms/step - loss: 0.3229 - auc: 0.8833 - binary_accuracy: 0.8542 - val_loss: 0.4118 - val_auc: 0.7938 - val_binary_accuracy: 0.8238\n",
      "lr = 0.0007462231\n",
      "Epoch 22/150\n",
      "466/466 [==============================] - 8s 17ms/step - loss: 0.3094 - auc: 0.8947 - binary_accuracy: 0.8575 - val_loss: 0.4256 - val_auc: 0.7937 - val_binary_accuracy: 0.8260\n",
      "lr = 0.0007240432\n",
      "Epoch 23/150\n",
      "466/466 [==============================] - 8s 17ms/step - loss: 0.3057 - auc: 0.8979 - binary_accuracy: 0.8597 - val_loss: 0.4198 - val_auc: 0.7870 - val_binary_accuracy: 0.8303\n",
      "lr = 0.0007012976\n",
      "Epoch 24/150\n",
      "466/466 [==============================] - 8s 17ms/step - loss: 0.3008 - auc: 0.9008 - binary_accuracy: 0.8617 - val_loss: 0.4318 - val_auc: 0.7858 - val_binary_accuracy: 0.8110\n",
      "lr = 0.000678044\n",
      "Epoch 25/150\n",
      "466/466 [==============================] - 8s 17ms/step - loss: 0.2859 - auc: 0.9123 - binary_accuracy: 0.8645 - val_loss: 0.4717 - val_auc: 0.7748 - val_binary_accuracy: 0.8153\n",
      "lr = 0.000654341\n",
      "Epoch 26/150\n",
      "466/466 [==============================] - 8s 16ms/step - loss: 0.2825 - auc: 0.9138 - binary_accuracy: 0.8653 - val_loss: 0.4267 - val_auc: 0.7957 - val_binary_accuracy: 0.8260\n",
      "lr = 0.00063024886\n",
      "Epoch 27/150\n",
      "466/466 [==============================] - 8s 16ms/step - loss: 0.2825 - auc: 0.9143 - binary_accuracy: 0.8645 - val_loss: 0.4392 - val_auc: 0.7914 - val_binary_accuracy: 0.8195\n",
      "lr = 0.0006058283\n",
      "Epoch 28/150\n",
      "466/466 [==============================] - 8s 16ms/step - loss: 0.2724 - auc: 0.9206 - binary_accuracy: 0.8713 - val_loss: 0.4410 - val_auc: 0.7911 - val_binary_accuracy: 0.8249\n",
      "lr = 0.00058114127\n",
      "Epoch 29/150\n",
      "466/466 [==============================] - 8s 16ms/step - loss: 0.2627 - auc: 0.9260 - binary_accuracy: 0.8759 - val_loss: 0.4489 - val_auc: 0.7858 - val_binary_accuracy: 0.8249\n",
      "lr = 0.00055625016\n",
      "Epoch 30/150\n",
      "466/466 [==============================] - 8s 16ms/step - loss: 0.2544 - auc: 0.9307 - binary_accuracy: 0.8790 - val_loss: 0.4729 - val_auc: 0.7868 - val_binary_accuracy: 0.8142\n",
      "lr = 0.0005312181\n",
      "Epoch 31/150\n",
      "466/466 [==============================] - 8s 17ms/step - loss: 0.2521 - auc: 0.9328 - binary_accuracy: 0.8801 - val_loss: 0.4501 - val_auc: 0.7980 - val_binary_accuracy: 0.8271\n",
      "lr = 0.0005061081\n",
      "Epoch 32/150\n",
      "466/466 [==============================] - 8s 16ms/step - loss: 0.2487 - auc: 0.9344 - binary_accuracy: 0.8827 - val_loss: 0.4700 - val_auc: 0.7938 - val_binary_accuracy: 0.8110\n",
      "lr = 0.000480984\n",
      "Epoch 33/150\n",
      "466/466 [==============================] - 8s 16ms/step - loss: 0.2387 - auc: 0.9394 - binary_accuracy: 0.8821 - val_loss: 0.4739 - val_auc: 0.7884 - val_binary_accuracy: 0.8195\n",
      "lr = 0.00045590935\n",
      "Epoch 34/150\n",
      "466/466 [==============================] - 8s 16ms/step - loss: 0.2301 - auc: 0.9438 - binary_accuracy: 0.8889 - val_loss: 0.4896 - val_auc: 0.7897 - val_binary_accuracy: 0.8195\n",
      "lr = 0.00043094743\n",
      "Epoch 35/150\n",
      "466/466 [==============================] - 8s 16ms/step - loss: 0.2256 - auc: 0.9454 - binary_accuracy: 0.8868 - val_loss: 0.5047 - val_auc: 0.7847 - val_binary_accuracy: 0.8206\n",
      "lr = 0.00040616162\n",
      "Epoch 36/150\n",
      "466/466 [==============================] - 8s 16ms/step - loss: 0.2251 - auc: 0.9460 - binary_accuracy: 0.8892 - val_loss: 0.5230 - val_auc: 0.7822 - val_binary_accuracy: 0.8174\n",
      "lr = 0.0003816143\n",
      "Epoch 37/150\n",
      "466/466 [==============================] - 8s 16ms/step - loss: 0.2197 - auc: 0.9484 - binary_accuracy: 0.8928 - val_loss: 0.5380 - val_auc: 0.7733 - val_binary_accuracy: 0.8217\n",
      "lr = 0.000357368\n",
      "Epoch 38/150\n",
      "466/466 [==============================] - 8s 16ms/step - loss: 0.2092 - auc: 0.9527 - binary_accuracy: 0.8966 - val_loss: 0.5505 - val_auc: 0.7790 - val_binary_accuracy: 0.8260\n",
      "lr = 0.00033348385\n",
      "Epoch 39/150\n",
      "466/466 [==============================] - 8s 16ms/step - loss: 0.2075 - auc: 0.9536 - binary_accuracy: 0.8959 - val_loss: 0.5520 - val_auc: 0.7722 - val_binary_accuracy: 0.8153\n",
      "lr = 0.0003100224\n",
      "Epoch 40/150\n",
      "466/466 [==============================] - 8s 17ms/step - loss: 0.2015 - auc: 0.9560 - binary_accuracy: 0.8979 - val_loss: 0.5775 - val_auc: 0.7690 - val_binary_accuracy: 0.8206\n",
      "lr = 0.00028704284\n",
      "Epoch 41/150\n",
      "466/466 [==============================] - 8s 16ms/step - loss: 0.2012 - auc: 0.9566 - binary_accuracy: 0.8978 - val_loss: 0.5665 - val_auc: 0.7714 - val_binary_accuracy: 0.8077\n"
     ]
    }
   ],
   "source": [
    "result = model.fit(\n",
    "    train_data, \n",
    "    validation_data=val_data, \n",
    "    callbacks=[tf.keras.callbacks.LambdaCallback(\n",
    "        on_epoch_begin=lambda epochs,logs: print('lr =',lr_decayed_fn(opt.iterations).numpy())\n",
    "        ),\n",
    "        tf.keras.callbacks.EarlyStopping(monitor='val_auc', mode='max', restore_best_weights=True, patience=5)],\n",
    "    epochs=150)"
   ]
  },
  {
   "cell_type": "code",
   "execution_count": 30,
   "metadata": {},
   "outputs": [
    {
     "name": "stdout",
     "output_type": "stream",
     "text": [
      "59/59 [==============================] - 0s 6ms/step - loss: 0.4395 - auc: 0.8189 - binary_accuracy: 0.8217\n"
     ]
    },
    {
     "data": {
      "image/png": "[encoded data removed]",
      "text/plain": [
       "<Figure size 432x288 with 1 Axes>"
      ]
     },
     "metadata": {
      "needs_background": "light"
     },
     "output_type": "display_data"
    }
   ],
   "source": [
    "plt.plot(result.history['val_binary_accuracy'])\n",
    "test_result = model.evaluate(test_data)\n",
    "plt.show()"
   ]
  },
  {
   "cell_type": "code",
   "execution_count": 32,
   "metadata": {
    "id": "dvt5dhe2ZZSZ"
   },
   "outputs": [],
   "source": [
    "inference_model = build_infer_model(L)\n",
    "\n",
    "inference_model.set_weights(model.get_weights())"
   ]
  },
  {
   "cell_type": "code",
   "execution_count": 33,
   "metadata": {
    "id": "cZH1rrPlZa58"
   },
   "outputs": [
    {
     "data": {
      "text/plain": [
       "<tf.Tensor: shape=(1, 1), dtype=float32, numpy=array([[0.901889]], dtype=float32)>"
      ]
     },
     "execution_count": 33,
     "metadata": {},
     "output_type": "execute_result"
    }
   ],
   "source": [
    "inference_model([np.array([1,1,1,1]).reshape(1,-1), np.array(np.ones(20)/20).reshape(1,-1)])"
   ]
  },
  {
   "cell_type": "code",
   "execution_count": 34,
   "metadata": {
    "id": "hiZ9r4SoZceA"
   },
   "outputs": [
    {
     "name": "stdout",
     "output_type": "stream",
     "text": [
      "WARNING:tensorflow:Compiled the loaded model, but the compiled metrics have yet to be built. `model.compile_metrics` will be empty until you train or evaluate the model.\n"
     ]
    }
   ],
   "source": [
    "tfjs.converters.save_keras_model(inference_model, \"tfjs_model\")"
   ]
  },
  {
   "cell_type": "markdown",
   "metadata": {
    "id": "-BxJi4R_ZiaG"
   },
   "source": [
    "# Model Card"
   ]
  },
  {
   "cell_type": "code",
   "execution_count": 35,
   "metadata": {
    "id": "hjj0MP8XZkQb"
   },
   "outputs": [
    {
     "name": "stdout",
     "output_type": "stream",
     "text": [
      "{\n",
      " \"title\": \"Hemolytic Prediction\",\n",
      " \"details\": \"Recurrent (bi-LSTM) neural network for predicting if a peptide is hemolytic. Developed by Andrew White using data from The Database of Antimicrobial Activity and Structure of Peptides (DBAASP). The activity is defined from by extrapolating from a measurement assuming a dose response curves to the point at which 50% of RBCs are lysed.  If activity is below 100 \\u03bcg / ml, it is hemolytic. Each measurement is treated independently, so sequences can appear multiple times.\",\n",
      " \"use\": \"Peptides between 2 and 190 residues. L- and canonical  amino acids.\",\n",
      " \"factors\": \"Dataset was from sequences thought to be antimicrobial or clinically relevant.\",\n",
      " \"metrics\": \"Test accuracy 0.82. Test AUC 0.82\",\n",
      " \"evaluation\": \"Withheld positive and negative examples\",\n",
      " \"training\": \"9316 positive and negative sequences. Only L- and canonical amino acids were trained.\",\n",
      " \"caveats\": \"The sequences tested were typically from biological sources.\",\n",
      " \"ethics\": \"These predictions are not a substitute for labratory experiments.\"\n",
      "}\n"
     ]
    }
   ],
   "source": [
    "model_card = {\n",
    "    'title': 'Hemolytic Prediction',\n",
    "    'details': 'Recurrent (bi-LSTM) neural network for predicting if a peptide is hemolytic. Developed by Andrew White using data from The Database of Antimicrobial Activity and Structure of Peptides (DBAASP). '\n",
    "    'The activity is defined from by extrapolating from a measurement assuming a dose response curves to the point at which 50% of RBCs are lysed.  If activity is below 100 μg / ml, it is hemolytic. Each measurement is treated independently, so sequences can appear multiple times.',\n",
    "    'use': 'Peptides between 1 and 190 residues. L- and canonical  amino acids.',\n",
    "    'factors': 'Dataset was from sequences thought to be antimicrobial or clinically relevant.',\n",
    "    'metrics': f'Test accuracy {test_result[2]:.2f}. Test AUC {test_result[1]:.2f}',\n",
    "    'evaluation': 'Withheld positive and negative examples',\n",
    "    'training': f'{len(pos_data) + len(neg_data)} positive (length range: {np.min(pos_data_lengths)}-{np.max(pos_data_lengths)}) and negative (length range: {np.min(neg_data_lengths)}-{np.max(neg_data_lengths)}) sequences. Only L- and canonical amino acids were trained.',\n",
    "    'caveats': 'The sequences tested were typically from biological sources.',\n",
    "    'ethics': 'These predictions are not a substitute for labratory experiments.'\n",
    "}\n",
    "with open('card.json', 'w') as f:\n",
    "  json.dump(model_card, f)\n",
    "print(json.dumps(model_card, indent=True))"
   ]
  }
 ],
 "metadata": {
  "colab": {
   "collapsed_sections": [],
   "name": "Hemo_RNN.ipynb",
   "provenance": []
  },
  "kernelspec": {
   "display_name": "Python 3",
   "language": "python",
   "name": "serverless"
  },
  "language_info": {
   "codemirror_mode": {
    "name": "ipython",
    "version": 3
   },
   "file_extension": ".py",
   "mimetype": "text/x-python",
   "name": "python",
   "nbconvert_exporter": "python",
   "pygments_lexer": "ipython3",
   "version": "3.8.13"
  }
 },
 "nbformat": 4,
 "nbformat_minor": 1
}
